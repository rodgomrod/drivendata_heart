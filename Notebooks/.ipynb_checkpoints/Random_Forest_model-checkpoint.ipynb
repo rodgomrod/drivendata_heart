{
 "cells": [
  {
   "cell_type": "code",
   "execution_count": 1,
   "metadata": {},
   "outputs": [],
   "source": [
    "import warnings\n",
    "warnings.filterwarnings(\"ignore\")\n",
    "\n",
    "import pandas as pd\n",
    "import numpy as np\n",
    "import glob\n",
    "import time\n",
    "from sklearn.model_selection import StratifiedKFold\n",
    "from sklearn.externals import joblib\n",
    "from sklearn.feature_extraction import DictVectorizer\n",
    "from sklearn.ensemble import RandomForestClassifier\n",
    "from sklearn.preprocessing import LabelBinarizer\n",
    "from sklearn.model_selection import RandomizedSearchCV\n",
    "import gc\n",
    "import seaborn as sns\n",
    "import matplotlib.pyplot as plt\n",
    "import sys\n",
    "from sklearn.metrics import precision_recall_curve, recall_score, log_loss"
   ]
  },
  {
   "cell_type": "code",
   "execution_count": 11,
   "metadata": {},
   "outputs": [],
   "source": [
    "train = pd.read_csv('../data/Processed/train.csv')\n",
    "X_train = train.loc[:,[c for c in train.columns if c != 'patient_id']]\n",
    "y_train = pd.read_csv('../data/raw/train_labels.csv', usecols=['heart_disease_present'])\n",
    "test = pd.read_csv('../data/Processed/test.csv')\n",
    "X_test = test.loc[:,[c for c in test.columns if c != 'patient_id']]"
   ]
  },
  {
   "cell_type": "code",
   "execution_count": 12,
   "metadata": {},
   "outputs": [
    {
     "data": {
      "text/html": [
       "<div>\n",
       "<style scoped>\n",
       "    .dataframe tbody tr th:only-of-type {\n",
       "        vertical-align: middle;\n",
       "    }\n",
       "\n",
       "    .dataframe tbody tr th {\n",
       "        vertical-align: top;\n",
       "    }\n",
       "\n",
       "    .dataframe thead th {\n",
       "        text-align: right;\n",
       "    }\n",
       "</style>\n",
       "<table border=\"1\" class=\"dataframe\">\n",
       "  <thead>\n",
       "    <tr style=\"text-align: right;\">\n",
       "      <th></th>\n",
       "      <th>patient_id</th>\n",
       "      <th>slope_of_peak_exercise_st_segment</th>\n",
       "      <th>thal</th>\n",
       "      <th>resting_blood_pressure</th>\n",
       "      <th>chest_pain_type</th>\n",
       "      <th>num_major_vessels</th>\n",
       "      <th>fasting_blood_sugar_gt_120_mg_per_dl</th>\n",
       "      <th>resting_ekg_results</th>\n",
       "      <th>serum_cholesterol_mg_per_dl</th>\n",
       "      <th>oldpeak_eq_st_depression</th>\n",
       "      <th>...</th>\n",
       "      <th>age</th>\n",
       "      <th>max_heart_rate_achieved</th>\n",
       "      <th>exercise_induced_angina</th>\n",
       "      <th>count0</th>\n",
       "      <th>count1</th>\n",
       "      <th>count2</th>\n",
       "      <th>count3</th>\n",
       "      <th>count4</th>\n",
       "      <th>presure_p_rate</th>\n",
       "      <th>cholesterol_p_age</th>\n",
       "    </tr>\n",
       "  </thead>\n",
       "  <tbody>\n",
       "    <tr>\n",
       "      <th>0</th>\n",
       "      <td>0z64un</td>\n",
       "      <td>0.0</td>\n",
       "      <td>0.204082</td>\n",
       "      <td>0.395349</td>\n",
       "      <td>0.333333</td>\n",
       "      <td>0.0</td>\n",
       "      <td>0.0</td>\n",
       "      <td>1.0</td>\n",
       "      <td>0.415525</td>\n",
       "      <td>0.000000</td>\n",
       "      <td>...</td>\n",
       "      <td>0.333333</td>\n",
       "      <td>0.698113</td>\n",
       "      <td>0.0</td>\n",
       "      <td>1.000000</td>\n",
       "      <td>0.750000</td>\n",
       "      <td>1.000000</td>\n",
       "      <td>0.508475</td>\n",
       "      <td>0.333333</td>\n",
       "      <td>0.573669</td>\n",
       "      <td>0.249247</td>\n",
       "    </tr>\n",
       "    <tr>\n",
       "      <th>1</th>\n",
       "      <td>ryoo3j</td>\n",
       "      <td>0.5</td>\n",
       "      <td>0.204082</td>\n",
       "      <td>0.186047</td>\n",
       "      <td>0.666667</td>\n",
       "      <td>0.0</td>\n",
       "      <td>0.0</td>\n",
       "      <td>0.0</td>\n",
       "      <td>0.200913</td>\n",
       "      <td>0.258065</td>\n",
       "      <td>...</td>\n",
       "      <td>0.520833</td>\n",
       "      <td>0.584906</td>\n",
       "      <td>0.0</td>\n",
       "      <td>0.537634</td>\n",
       "      <td>0.680556</td>\n",
       "      <td>0.597938</td>\n",
       "      <td>0.864407</td>\n",
       "      <td>0.416667</td>\n",
       "      <td>0.328291</td>\n",
       "      <td>0.176958</td>\n",
       "    </tr>\n",
       "    <tr>\n",
       "      <th>2</th>\n",
       "      <td>yt1s1x</td>\n",
       "      <td>0.0</td>\n",
       "      <td>0.204082</td>\n",
       "      <td>0.360465</td>\n",
       "      <td>1.000000</td>\n",
       "      <td>1.0</td>\n",
       "      <td>0.0</td>\n",
       "      <td>1.0</td>\n",
       "      <td>0.406393</td>\n",
       "      <td>0.000000</td>\n",
       "      <td>...</td>\n",
       "      <td>1.000000</td>\n",
       "      <td>0.622642</td>\n",
       "      <td>1.0</td>\n",
       "      <td>1.000000</td>\n",
       "      <td>0.750000</td>\n",
       "      <td>0.175258</td>\n",
       "      <td>0.186441</td>\n",
       "      <td>0.000000</td>\n",
       "      <td>0.489076</td>\n",
       "      <td>0.548820</td>\n",
       "    </tr>\n",
       "    <tr>\n",
       "      <th>3</th>\n",
       "      <td>l2xjde</td>\n",
       "      <td>0.0</td>\n",
       "      <td>0.756757</td>\n",
       "      <td>0.674419</td>\n",
       "      <td>1.000000</td>\n",
       "      <td>0.0</td>\n",
       "      <td>0.0</td>\n",
       "      <td>0.0</td>\n",
       "      <td>0.221461</td>\n",
       "      <td>0.000000</td>\n",
       "      <td>...</td>\n",
       "      <td>0.229167</td>\n",
       "      <td>0.801887</td>\n",
       "      <td>0.0</td>\n",
       "      <td>0.354839</td>\n",
       "      <td>1.000000</td>\n",
       "      <td>1.000000</td>\n",
       "      <td>1.000000</td>\n",
       "      <td>0.166667</td>\n",
       "      <td>0.895910</td>\n",
       "      <td>0.094252</td>\n",
       "    </tr>\n",
       "    <tr>\n",
       "      <th>4</th>\n",
       "      <td>oyt4ek</td>\n",
       "      <td>1.0</td>\n",
       "      <td>0.756757</td>\n",
       "      <td>0.976744</td>\n",
       "      <td>0.000000</td>\n",
       "      <td>0.0</td>\n",
       "      <td>0.0</td>\n",
       "      <td>1.0</td>\n",
       "      <td>0.328767</td>\n",
       "      <td>0.677419</td>\n",
       "      <td>...</td>\n",
       "      <td>0.625000</td>\n",
       "      <td>0.462264</td>\n",
       "      <td>0.0</td>\n",
       "      <td>0.096774</td>\n",
       "      <td>0.138889</td>\n",
       "      <td>0.020619</td>\n",
       "      <td>0.203390</td>\n",
       "      <td>0.000000</td>\n",
       "      <td>0.800560</td>\n",
       "      <td>0.314194</td>\n",
       "    </tr>\n",
       "  </tbody>\n",
       "</table>\n",
       "<p>5 rows × 21 columns</p>\n",
       "</div>"
      ],
      "text/plain": [
       "  patient_id  slope_of_peak_exercise_st_segment      thal  \\\n",
       "0     0z64un                                0.0  0.204082   \n",
       "1     ryoo3j                                0.5  0.204082   \n",
       "2     yt1s1x                                0.0  0.204082   \n",
       "3     l2xjde                                0.0  0.756757   \n",
       "4     oyt4ek                                1.0  0.756757   \n",
       "\n",
       "   resting_blood_pressure  chest_pain_type  num_major_vessels  \\\n",
       "0                0.395349         0.333333                0.0   \n",
       "1                0.186047         0.666667                0.0   \n",
       "2                0.360465         1.000000                1.0   \n",
       "3                0.674419         1.000000                0.0   \n",
       "4                0.976744         0.000000                0.0   \n",
       "\n",
       "   fasting_blood_sugar_gt_120_mg_per_dl  resting_ekg_results  \\\n",
       "0                                   0.0                  1.0   \n",
       "1                                   0.0                  0.0   \n",
       "2                                   0.0                  1.0   \n",
       "3                                   0.0                  0.0   \n",
       "4                                   0.0                  1.0   \n",
       "\n",
       "   serum_cholesterol_mg_per_dl  oldpeak_eq_st_depression  ...       age  \\\n",
       "0                     0.415525                  0.000000  ...  0.333333   \n",
       "1                     0.200913                  0.258065  ...  0.520833   \n",
       "2                     0.406393                  0.000000  ...  1.000000   \n",
       "3                     0.221461                  0.000000  ...  0.229167   \n",
       "4                     0.328767                  0.677419  ...  0.625000   \n",
       "\n",
       "   max_heart_rate_achieved  exercise_induced_angina    count0    count1  \\\n",
       "0                 0.698113                      0.0  1.000000  0.750000   \n",
       "1                 0.584906                      0.0  0.537634  0.680556   \n",
       "2                 0.622642                      1.0  1.000000  0.750000   \n",
       "3                 0.801887                      0.0  0.354839  1.000000   \n",
       "4                 0.462264                      0.0  0.096774  0.138889   \n",
       "\n",
       "     count2    count3    count4  presure_p_rate  cholesterol_p_age  \n",
       "0  1.000000  0.508475  0.333333        0.573669           0.249247  \n",
       "1  0.597938  0.864407  0.416667        0.328291           0.176958  \n",
       "2  0.175258  0.186441  0.000000        0.489076           0.548820  \n",
       "3  1.000000  1.000000  0.166667        0.895910           0.094252  \n",
       "4  0.020619  0.203390  0.000000        0.800560           0.314194  \n",
       "\n",
       "[5 rows x 21 columns]"
      ]
     },
     "execution_count": 12,
     "metadata": {},
     "output_type": "execute_result"
    }
   ],
   "source": [
    "train.head()"
   ]
  },
  {
   "cell_type": "code",
   "execution_count": 13,
   "metadata": {},
   "outputs": [],
   "source": [
    "# sel_cols = ['count0', 'count1', 'count2', 'count3', 'count4', 'presure_p_rate', 'cholesterol_p_age']\n",
    "# X_train = X_train[sel_cols]\n",
    "# X_test = X_test[sel_cols]"
   ]
  },
  {
   "cell_type": "markdown",
   "metadata": {},
   "source": [
    "# Random Forest"
   ]
  },
  {
   "cell_type": "code",
   "execution_count": 14,
   "metadata": {},
   "outputs": [],
   "source": [
    "model_name = 'rf_1'\n",
    "\n",
    "params = {\n",
    "    'n_estimators': 1000,\n",
    "    'criterion': 'entropy',\n",
    "    'max_depth': 5,\n",
    "    'random_state': 42,\n",
    "    'n_jobs': 1,\n",
    "    'verbose': 0,\n",
    "    'min_samples_leaf': 2,\n",
    "    \n",
    "}\n",
    "\n",
    "rf = RandomForestClassifier(**params)"
   ]
  },
  {
   "cell_type": "code",
   "execution_count": 15,
   "metadata": {},
   "outputs": [],
   "source": [
    "lb = LabelBinarizer()"
   ]
  },
  {
   "cell_type": "code",
   "execution_count": 16,
   "metadata": {},
   "outputs": [
    {
     "name": "stdout",
     "output_type": "stream",
     "text": [
      "Fold 1\n",
      "\n"
     ]
    },
    {
     "name": "stderr",
     "output_type": "stream",
     "text": [
      "/usr/local/lib/python3.6/dist-packages/ipykernel_launcher.py:16: DataConversionWarning: A column-vector y was passed when a 1d array was expected. Please change the shape of y to (n_samples,), for example using ravel().\n",
      "  app.launch_new_instance()\n"
     ]
    },
    {
     "name": "stdout",
     "output_type": "stream",
     "text": [
      "Fold 2\n",
      "\n"
     ]
    },
    {
     "name": "stderr",
     "output_type": "stream",
     "text": [
      "/usr/local/lib/python3.6/dist-packages/ipykernel_launcher.py:16: DataConversionWarning: A column-vector y was passed when a 1d array was expected. Please change the shape of y to (n_samples,), for example using ravel().\n",
      "  app.launch_new_instance()\n"
     ]
    },
    {
     "name": "stdout",
     "output_type": "stream",
     "text": [
      "Fold 3\n",
      "\n"
     ]
    },
    {
     "name": "stderr",
     "output_type": "stream",
     "text": [
      "/usr/local/lib/python3.6/dist-packages/ipykernel_launcher.py:16: DataConversionWarning: A column-vector y was passed when a 1d array was expected. Please change the shape of y to (n_samples,), for example using ravel().\n",
      "  app.launch_new_instance()\n"
     ]
    },
    {
     "name": "stdout",
     "output_type": "stream",
     "text": [
      "Fold 4\n",
      "\n"
     ]
    },
    {
     "name": "stderr",
     "output_type": "stream",
     "text": [
      "/usr/local/lib/python3.6/dist-packages/ipykernel_launcher.py:16: DataConversionWarning: A column-vector y was passed when a 1d array was expected. Please change the shape of y to (n_samples,), for example using ravel().\n",
      "  app.launch_new_instance()\n"
     ]
    },
    {
     "name": "stdout",
     "output_type": "stream",
     "text": [
      "Fold 5\n",
      "\n"
     ]
    },
    {
     "name": "stderr",
     "output_type": "stream",
     "text": [
      "/usr/local/lib/python3.6/dist-packages/ipykernel_launcher.py:16: DataConversionWarning: A column-vector y was passed when a 1d array was expected. Please change the shape of y to (n_samples,), for example using ravel().\n",
      "  app.launch_new_instance()\n"
     ]
    },
    {
     "name": "stdout",
     "output_type": "stream",
     "text": [
      "\n",
      "\n",
      "BEST RECALL SCORE MEAN: 0.775\n",
      "\n",
      "\n",
      "BEST LOG_LOSS SCORE MEAN: 0.4389428634566654\n"
     ]
    }
   ],
   "source": [
    "train_ids = X_train.index\n",
    "skf = StratifiedKFold(n_splits=5, shuffle=True, random_state=42)\n",
    "\n",
    "counter = 1\n",
    "y_preds = np.zeros(X_test.shape[0])\n",
    "be = 0\n",
    "log_loss_score = 0\n",
    "stack = pd.DataFrame()\n",
    "stack2 = pd.DataFrame()\n",
    "for train_index, test_index in skf.split(train_ids, y_train):\n",
    "    print('Fold {}\\n'.format(counter))\n",
    "\n",
    "    X_fit, X_val = X_train.iloc[train_index, :], X_train.iloc[test_index, :]\n",
    "    y_fit, y_val = y_train.iloc[train_index], y_train.iloc[test_index]\n",
    "\n",
    "    rf.fit(X_fit, y_fit)\n",
    "    \n",
    "    y_probas = rf.predict_proba(X_val)\n",
    "    y_preds += rf.predict_proba(X_test)[:,1]\n",
    "    stack2['patient_id'] = train['patient_id'][test_index].tolist()\n",
    "    stack2['heart_disease_present'] = rf.predict_proba(X_val)[:,1]\n",
    "    stack = pd.concat([stack, stack2], axis = 0)\n",
    "    be += recall_score(y_val['heart_disease_present'], rf.predict(X_val))\n",
    "    \n",
    "    y_val = lb.fit_transform(y_val)\n",
    "    log_loss_score += log_loss(y_val, y_probas)\n",
    "\n",
    "    del X_fit\n",
    "    del X_val\n",
    "    del y_fit\n",
    "    del y_val\n",
    "    del train_index\n",
    "    del test_index\n",
    "    gc.collect()\n",
    "\n",
    "#     print('Guardamos el modelo')\n",
    "#     joblib.dump(lgb_model, '../saved_models/{}_{}.pkl'.format(model_name, counter))\n",
    "\n",
    "#     ft_importances += lgb_model.feature_importances_\n",
    "\n",
    "    counter += 1\n",
    "\n",
    "y_preds = y_preds / (counter-1)\n",
    "\n",
    "print('\\n\\nBEST RECALL SCORE MEAN:', be / (counter-1))\n",
    "print('\\n\\nBEST LOG_LOSS SCORE MEAN:', log_loss_score / (counter-1))"
   ]
  },
  {
   "cell_type": "code",
   "execution_count": 17,
   "metadata": {},
   "outputs": [
    {
     "data": {
      "text/html": [
       "<div>\n",
       "<style scoped>\n",
       "    .dataframe tbody tr th:only-of-type {\n",
       "        vertical-align: middle;\n",
       "    }\n",
       "\n",
       "    .dataframe tbody tr th {\n",
       "        vertical-align: top;\n",
       "    }\n",
       "\n",
       "    .dataframe thead th {\n",
       "        text-align: right;\n",
       "    }\n",
       "</style>\n",
       "<table border=\"1\" class=\"dataframe\">\n",
       "  <thead>\n",
       "    <tr style=\"text-align: right;\">\n",
       "      <th></th>\n",
       "      <th>patient_id</th>\n",
       "      <th>heart_disease_present</th>\n",
       "    </tr>\n",
       "  </thead>\n",
       "  <tbody>\n",
       "    <tr>\n",
       "      <th>0</th>\n",
       "      <td>0z64un</td>\n",
       "      <td>0.092259</td>\n",
       "    </tr>\n",
       "    <tr>\n",
       "      <th>1</th>\n",
       "      <td>yt1s1x</td>\n",
       "      <td>0.554173</td>\n",
       "    </tr>\n",
       "    <tr>\n",
       "      <th>2</th>\n",
       "      <td>3nwy2n</td>\n",
       "      <td>0.807424</td>\n",
       "    </tr>\n",
       "    <tr>\n",
       "      <th>3</th>\n",
       "      <td>1r508r</td>\n",
       "      <td>0.062726</td>\n",
       "    </tr>\n",
       "    <tr>\n",
       "      <th>4</th>\n",
       "      <td>cvux3j</td>\n",
       "      <td>0.183188</td>\n",
       "    </tr>\n",
       "  </tbody>\n",
       "</table>\n",
       "</div>"
      ],
      "text/plain": [
       "  patient_id  heart_disease_present\n",
       "0     0z64un               0.092259\n",
       "1     yt1s1x               0.554173\n",
       "2     3nwy2n               0.807424\n",
       "3     1r508r               0.062726\n",
       "4     cvux3j               0.183188"
      ]
     },
     "execution_count": 17,
     "metadata": {},
     "output_type": "execute_result"
    }
   ],
   "source": [
    "stack.head()"
   ]
  },
  {
   "cell_type": "code",
   "execution_count": 18,
   "metadata": {},
   "outputs": [],
   "source": [
    "stack.to_csv('../stacking/data/train_{}.csv'.format(model_name), index=False)"
   ]
  },
  {
   "cell_type": "code",
   "execution_count": 19,
   "metadata": {},
   "outputs": [
    {
     "data": {
      "text/plain": [
       "array([0.45883862, 0.13302086, 0.87010754, 0.23769092, 0.78363569])"
      ]
     },
     "execution_count": 19,
     "metadata": {},
     "output_type": "execute_result"
    }
   ],
   "source": [
    "y_preds[:5]"
   ]
  },
  {
   "cell_type": "code",
   "execution_count": 20,
   "metadata": {},
   "outputs": [],
   "source": [
    "sub = pd.DataFrame({'patient_id': test['patient_id'], 'heart_disease_present': y_preds})"
   ]
  },
  {
   "cell_type": "code",
   "execution_count": 21,
   "metadata": {},
   "outputs": [],
   "source": [
    "sub.to_csv('../stacking/data/test_{}.csv'.format(model_name), index=False)"
   ]
  },
  {
   "cell_type": "code",
   "execution_count": null,
   "metadata": {},
   "outputs": [],
   "source": []
  }
 ],
 "metadata": {
  "kernelspec": {
   "display_name": "Python 3",
   "language": "python",
   "name": "python3"
  },
  "language_info": {
   "codemirror_mode": {
    "name": "ipython",
    "version": 3
   },
   "file_extension": ".py",
   "mimetype": "text/x-python",
   "name": "python",
   "nbconvert_exporter": "python",
   "pygments_lexer": "ipython3",
   "version": "3.6.7"
  }
 },
 "nbformat": 4,
 "nbformat_minor": 2
}
