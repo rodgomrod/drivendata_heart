{
 "cells": [
  {
   "cell_type": "code",
   "execution_count": 1,
   "metadata": {},
   "outputs": [],
   "source": [
    "import pandas as pd\n",
    "import numpy as np\n",
    "import glob\n",
    "from sklearn.model_selection import StratifiedKFold\n",
    "from sklearn.externals import joblib\n",
    "from sklearn.linear_model import LogisticRegression\n",
    "from sklearn.metrics import log_loss\n",
    "import gc\n",
    "import seaborn as sns\n",
    "import matplotlib.pyplot as plt\n",
    "import sys\n",
    "\n",
    "import warnings\n",
    "warnings.filterwarnings(\"ignore\")"
   ]
  },
  {
   "cell_type": "code",
   "execution_count": 2,
   "metadata": {},
   "outputs": [],
   "source": [
    "train = pd.read_csv('../data/Processed/train.csv')\n",
    "X_train = train.loc[:,[c for c in train.columns if c != 'patient_id']]\n",
    "y_train = pd.read_csv('../data/raw/train_labels.csv', usecols=['heart_disease_present'])\n",
    "test = pd.read_csv('../data/Processed/test.csv')\n",
    "X_test = test.loc[:,[c for c in test.columns if c != 'patient_id']]"
   ]
  },
  {
   "cell_type": "code",
   "execution_count": 3,
   "metadata": {},
   "outputs": [],
   "source": [
    "model_name = 'lr_1'\n",
    "\n",
    "params = {'tol':0.01,\n",
    "          'C':10,\n",
    "          'max_iter':10000,\n",
    "          'n_jobs':-1,\n",
    "          'verbose':5,\n",
    "          'random_state': 42,\n",
    "         'penalty': 'l2'}\n",
    "\n",
    "\n",
    "lr_model = LogisticRegression(**params)"
   ]
  },
  {
   "cell_type": "code",
   "execution_count": 4,
   "metadata": {},
   "outputs": [],
   "source": [
    "train_ids = X_train.index\n",
    "skf = StratifiedKFold(n_splits=3, shuffle=True, random_state=42)"
   ]
  },
  {
   "cell_type": "code",
   "execution_count": 5,
   "metadata": {},
   "outputs": [
    {
     "name": "stdout",
     "output_type": "stream",
     "text": [
      "Fold 1\n",
      "\n",
      "[LibLinear]6.228369480838827\n",
      "Fold 2\n",
      "\n",
      "[LibLinear]8.634800711718363\n",
      "Fold 3\n",
      "\n",
      "[LibLinear]4.683278127949258\n",
      "\n",
      "\n",
      "BEST SCORE MEAN: 6.51548277350215\n"
     ]
    }
   ],
   "source": [
    "counter = 1\n",
    "y_preds = np.zeros(X_test.shape[0])\n",
    "be = 0\n",
    "for train_index, test_index in skf.split(train_ids, y_train):\n",
    "    print('Fold {}\\n'.format(counter))\n",
    "\n",
    "    X_fit, X_val = X_train.iloc[train_index, :], X_train.iloc[test_index, :]\n",
    "    y_fit, y_val = y_train.iloc[train_index], y_train.iloc[test_index]\n",
    "\n",
    "    lr_model.fit(X_fit,\n",
    "                  y_fit)\n",
    "    \n",
    "    \n",
    "    preds = lr_model.predict_proba(X_test)\n",
    "    y_preds += preds[:,1]\n",
    "    \n",
    "    fold_score = log_loss(preds, y_val)\n",
    "    be += fold_score\n",
    "    print(fold_score)\n",
    "\n",
    "    del X_fit\n",
    "    del X_val\n",
    "    del y_fit\n",
    "    del y_val\n",
    "    del train_index\n",
    "    del test_index\n",
    "    gc.collect()\n",
    "\n",
    "#     print('Guardamos el modelo')\n",
    "#     joblib.dump(lgb_model, '../saved_models/{}_{}.pkl'.format(model_name, counter))\n",
    "\n",
    "#     ft_importances += lgb_model.feature_importances_\n",
    "\n",
    "    counter += 1\n",
    "\n",
    "y_preds = y_preds / (counter-1)\n",
    "\n",
    "print('\\n\\nBEST SCORE MEAN:', be / (counter-1))\n"
   ]
  },
  {
   "cell_type": "code",
   "execution_count": 21,
   "metadata": {},
   "outputs": [
    {
     "data": {
      "text/plain": [
       "array([0.36670871, 0.10192963, 0.94859829, 0.06797782, 0.96176598])"
      ]
     },
     "execution_count": 21,
     "metadata": {},
     "output_type": "execute_result"
    }
   ],
   "source": [
    "y_preds[:5]"
   ]
  },
  {
   "cell_type": "code",
   "execution_count": 54,
   "metadata": {},
   "outputs": [],
   "source": [
    "sub = pd.DataFrame({'patient_id': test['patient_id'], 'heart_disease_present': y_preds})"
   ]
  },
  {
   "cell_type": "code",
   "execution_count": 55,
   "metadata": {},
   "outputs": [],
   "source": [
    "sub.to_csv('../submissions/lgbm_1.csv', index=False)"
   ]
  }
 ],
 "metadata": {
  "kernelspec": {
   "display_name": "Python 3",
   "language": "python",
   "name": "python3"
  },
  "language_info": {
   "codemirror_mode": {
    "name": "ipython",
    "version": 3
   },
   "file_extension": ".py",
   "mimetype": "text/x-python",
   "name": "python",
   "nbconvert_exporter": "python",
   "pygments_lexer": "ipython3",
   "version": "3.6.7"
  }
 },
 "nbformat": 4,
 "nbformat_minor": 2
}
