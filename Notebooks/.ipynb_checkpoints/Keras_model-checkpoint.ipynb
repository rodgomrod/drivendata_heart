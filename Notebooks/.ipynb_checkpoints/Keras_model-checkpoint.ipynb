{
 "cells": [
  {
   "cell_type": "code",
   "execution_count": 1,
   "metadata": {},
   "outputs": [
    {
     "name": "stderr",
     "output_type": "stream",
     "text": [
      "Using TensorFlow backend.\n"
     ]
    }
   ],
   "source": [
    "import numpy as np\n",
    "import pandas as pd\n",
    "from keras.models import Sequential\n",
    "from keras.layers import Dense\n",
    "from keras.wrappers.scikit_learn import KerasClassifier\n",
    "from keras.callbacks import EarlyStopping\n",
    "from keras.optimizers import SGD\n",
    "from sklearn.model_selection import cross_val_score\n",
    "from sklearn.preprocessing import LabelEncoder\n",
    "from sklearn.model_selection import StratifiedKFold\n",
    "from sklearn.preprocessing import StandardScaler\n",
    "from sklearn.pipeline import Pipeline\n",
    "from sklearn.metrics import log_loss\n",
    "import gc"
   ]
  },
  {
   "cell_type": "code",
   "execution_count": 2,
   "metadata": {},
   "outputs": [],
   "source": [
    "# train = pd.read_csv('../data/OHE/train.csv')\n",
    "train = pd.read_csv('../data/Processed/train.csv')\n",
    "y_train = pd.read_csv('../data/raw/train_labels.csv', usecols=['heart_disease_present'])\n",
    "# test = pd.read_csv('../data/OHE/test.csv')\n",
    "test = pd.read_csv('../data/Processed/test.csv')"
   ]
  },
  {
   "cell_type": "code",
   "execution_count": 3,
   "metadata": {},
   "outputs": [],
   "source": [
    "X_train = train.loc[:,[c for c in train.columns if c != 'patient_id']]\n",
    "X_test = test.loc[:,[c for c in test.columns if c != 'patient_id']]"
   ]
  },
  {
   "cell_type": "code",
   "execution_count": 4,
   "metadata": {},
   "outputs": [
    {
     "data": {
      "text/html": [
       "<div>\n",
       "<style scoped>\n",
       "    .dataframe tbody tr th:only-of-type {\n",
       "        vertical-align: middle;\n",
       "    }\n",
       "\n",
       "    .dataframe tbody tr th {\n",
       "        vertical-align: top;\n",
       "    }\n",
       "\n",
       "    .dataframe thead th {\n",
       "        text-align: right;\n",
       "    }\n",
       "</style>\n",
       "<table border=\"1\" class=\"dataframe\">\n",
       "  <thead>\n",
       "    <tr style=\"text-align: right;\">\n",
       "      <th></th>\n",
       "      <th>slope_of_peak_exercise_st_segment</th>\n",
       "      <th>thal</th>\n",
       "      <th>resting_blood_pressure</th>\n",
       "      <th>chest_pain_type</th>\n",
       "      <th>num_major_vessels</th>\n",
       "      <th>fasting_blood_sugar_gt_120_mg_per_dl</th>\n",
       "      <th>resting_ekg_results</th>\n",
       "      <th>serum_cholesterol_mg_per_dl</th>\n",
       "      <th>oldpeak_eq_st_depression</th>\n",
       "      <th>sex</th>\n",
       "      <th>age</th>\n",
       "      <th>max_heart_rate_achieved</th>\n",
       "      <th>exercise_induced_angina</th>\n",
       "      <th>count0</th>\n",
       "      <th>count1</th>\n",
       "      <th>count2</th>\n",
       "      <th>count3</th>\n",
       "      <th>count4</th>\n",
       "      <th>presure_p_rate</th>\n",
       "      <th>cholesterol_p_age</th>\n",
       "    </tr>\n",
       "  </thead>\n",
       "  <tbody>\n",
       "    <tr>\n",
       "      <th>0</th>\n",
       "      <td>0.0</td>\n",
       "      <td>0.204082</td>\n",
       "      <td>0.395349</td>\n",
       "      <td>0.333333</td>\n",
       "      <td>0.0</td>\n",
       "      <td>0.0</td>\n",
       "      <td>1.0</td>\n",
       "      <td>0.415525</td>\n",
       "      <td>0.000000</td>\n",
       "      <td>1.0</td>\n",
       "      <td>0.333333</td>\n",
       "      <td>0.698113</td>\n",
       "      <td>0.0</td>\n",
       "      <td>1.000000</td>\n",
       "      <td>0.750000</td>\n",
       "      <td>1.000000</td>\n",
       "      <td>0.508475</td>\n",
       "      <td>0.333333</td>\n",
       "      <td>0.573669</td>\n",
       "      <td>0.249247</td>\n",
       "    </tr>\n",
       "    <tr>\n",
       "      <th>1</th>\n",
       "      <td>0.5</td>\n",
       "      <td>0.204082</td>\n",
       "      <td>0.186047</td>\n",
       "      <td>0.666667</td>\n",
       "      <td>0.0</td>\n",
       "      <td>0.0</td>\n",
       "      <td>0.0</td>\n",
       "      <td>0.200913</td>\n",
       "      <td>0.258065</td>\n",
       "      <td>0.0</td>\n",
       "      <td>0.520833</td>\n",
       "      <td>0.584906</td>\n",
       "      <td>0.0</td>\n",
       "      <td>0.537634</td>\n",
       "      <td>0.680556</td>\n",
       "      <td>0.597938</td>\n",
       "      <td>0.864407</td>\n",
       "      <td>0.416667</td>\n",
       "      <td>0.328291</td>\n",
       "      <td>0.176958</td>\n",
       "    </tr>\n",
       "    <tr>\n",
       "      <th>2</th>\n",
       "      <td>0.0</td>\n",
       "      <td>0.204082</td>\n",
       "      <td>0.360465</td>\n",
       "      <td>1.000000</td>\n",
       "      <td>1.0</td>\n",
       "      <td>0.0</td>\n",
       "      <td>1.0</td>\n",
       "      <td>0.406393</td>\n",
       "      <td>0.000000</td>\n",
       "      <td>1.0</td>\n",
       "      <td>1.000000</td>\n",
       "      <td>0.622642</td>\n",
       "      <td>1.0</td>\n",
       "      <td>1.000000</td>\n",
       "      <td>0.750000</td>\n",
       "      <td>0.175258</td>\n",
       "      <td>0.186441</td>\n",
       "      <td>0.000000</td>\n",
       "      <td>0.489076</td>\n",
       "      <td>0.548820</td>\n",
       "    </tr>\n",
       "    <tr>\n",
       "      <th>3</th>\n",
       "      <td>0.0</td>\n",
       "      <td>0.756757</td>\n",
       "      <td>0.674419</td>\n",
       "      <td>1.000000</td>\n",
       "      <td>0.0</td>\n",
       "      <td>0.0</td>\n",
       "      <td>0.0</td>\n",
       "      <td>0.221461</td>\n",
       "      <td>0.000000</td>\n",
       "      <td>1.0</td>\n",
       "      <td>0.229167</td>\n",
       "      <td>0.801887</td>\n",
       "      <td>0.0</td>\n",
       "      <td>0.354839</td>\n",
       "      <td>1.000000</td>\n",
       "      <td>1.000000</td>\n",
       "      <td>1.000000</td>\n",
       "      <td>0.166667</td>\n",
       "      <td>0.895910</td>\n",
       "      <td>0.094252</td>\n",
       "    </tr>\n",
       "    <tr>\n",
       "      <th>4</th>\n",
       "      <td>1.0</td>\n",
       "      <td>0.756757</td>\n",
       "      <td>0.976744</td>\n",
       "      <td>0.000000</td>\n",
       "      <td>0.0</td>\n",
       "      <td>0.0</td>\n",
       "      <td>1.0</td>\n",
       "      <td>0.328767</td>\n",
       "      <td>0.677419</td>\n",
       "      <td>1.0</td>\n",
       "      <td>0.625000</td>\n",
       "      <td>0.462264</td>\n",
       "      <td>0.0</td>\n",
       "      <td>0.096774</td>\n",
       "      <td>0.138889</td>\n",
       "      <td>0.020619</td>\n",
       "      <td>0.203390</td>\n",
       "      <td>0.000000</td>\n",
       "      <td>0.800560</td>\n",
       "      <td>0.314194</td>\n",
       "    </tr>\n",
       "  </tbody>\n",
       "</table>\n",
       "</div>"
      ],
      "text/plain": [
       "   slope_of_peak_exercise_st_segment      thal  resting_blood_pressure  \\\n",
       "0                                0.0  0.204082                0.395349   \n",
       "1                                0.5  0.204082                0.186047   \n",
       "2                                0.0  0.204082                0.360465   \n",
       "3                                0.0  0.756757                0.674419   \n",
       "4                                1.0  0.756757                0.976744   \n",
       "\n",
       "   chest_pain_type  num_major_vessels  fasting_blood_sugar_gt_120_mg_per_dl  \\\n",
       "0         0.333333                0.0                                   0.0   \n",
       "1         0.666667                0.0                                   0.0   \n",
       "2         1.000000                1.0                                   0.0   \n",
       "3         1.000000                0.0                                   0.0   \n",
       "4         0.000000                0.0                                   0.0   \n",
       "\n",
       "   resting_ekg_results  serum_cholesterol_mg_per_dl  oldpeak_eq_st_depression  \\\n",
       "0                  1.0                     0.415525                  0.000000   \n",
       "1                  0.0                     0.200913                  0.258065   \n",
       "2                  1.0                     0.406393                  0.000000   \n",
       "3                  0.0                     0.221461                  0.000000   \n",
       "4                  1.0                     0.328767                  0.677419   \n",
       "\n",
       "   sex       age  max_heart_rate_achieved  exercise_induced_angina    count0  \\\n",
       "0  1.0  0.333333                 0.698113                      0.0  1.000000   \n",
       "1  0.0  0.520833                 0.584906                      0.0  0.537634   \n",
       "2  1.0  1.000000                 0.622642                      1.0  1.000000   \n",
       "3  1.0  0.229167                 0.801887                      0.0  0.354839   \n",
       "4  1.0  0.625000                 0.462264                      0.0  0.096774   \n",
       "\n",
       "     count1    count2    count3    count4  presure_p_rate  cholesterol_p_age  \n",
       "0  0.750000  1.000000  0.508475  0.333333        0.573669           0.249247  \n",
       "1  0.680556  0.597938  0.864407  0.416667        0.328291           0.176958  \n",
       "2  0.750000  0.175258  0.186441  0.000000        0.489076           0.548820  \n",
       "3  1.000000  1.000000  1.000000  0.166667        0.895910           0.094252  \n",
       "4  0.138889  0.020619  0.203390  0.000000        0.800560           0.314194  "
      ]
     },
     "execution_count": 4,
     "metadata": {},
     "output_type": "execute_result"
    }
   ],
   "source": [
    "X_train.head()"
   ]
  },
  {
   "cell_type": "code",
   "execution_count": 5,
   "metadata": {},
   "outputs": [],
   "source": [
    "callbacks = [EarlyStopping(monitor='val_loss',\n",
    "                           min_delta=0.0,\n",
    "                           patience=1,\n",
    "                           verbose=0,\n",
    "                           mode='min',\n",
    "                           restore_best_weights=True)]"
   ]
  },
  {
   "cell_type": "code",
   "execution_count": 6,
   "metadata": {},
   "outputs": [],
   "source": [
    "# baseline model\n",
    "def create_baseline():\n",
    "    # create model\n",
    "    model = Sequential()\n",
    "    model.add(Dense(X_train.shape[0], input_dim=X_train.shape[1], kernel_initializer='normal', activation='relu'))\n",
    "#     model.add(Dense(X_train.shape[0]*2, kernel_initializer='normal', activation='relu'))\n",
    "    model.add(Dense(1, kernel_initializer='normal', activation='sigmoid'))\n",
    "    # Compile model\n",
    "    model.compile(loss='binary_crossentropy', optimizer='adam',)\n",
    "    return model"
   ]
  },
  {
   "cell_type": "code",
   "execution_count": 7,
   "metadata": {},
   "outputs": [],
   "source": [
    "estimator = KerasClassifier(build_fn=create_baseline, epochs=30, batch_size=8, verbose=2, validation_split=0.33,\n",
    "                           callbacks=callbacks)"
   ]
  },
  {
   "cell_type": "code",
   "execution_count": 8,
   "metadata": {},
   "outputs": [
    {
     "name": "stdout",
     "output_type": "stream",
     "text": [
      "WARNING:tensorflow:From /home/errodringer/.local/lib/python3.6/site-packages/tensorflow/python/framework/op_def_library.py:263: colocate_with (from tensorflow.python.framework.ops) is deprecated and will be removed in a future version.\n",
      "Instructions for updating:\n",
      "Colocations handled automatically by placer.\n"
     ]
    }
   ],
   "source": [
    "model = create_baseline()"
   ]
  },
  {
   "cell_type": "code",
   "execution_count": 41,
   "metadata": {},
   "outputs": [
    {
     "name": "stdout",
     "output_type": "stream",
     "text": [
      "Train on 120 samples, validate on 60 samples\n",
      "Epoch 1/30\n",
      " - 0s - loss: 0.6697 - val_loss: 0.6617\n",
      "Epoch 2/30\n",
      " - 0s - loss: 0.6291 - val_loss: 0.6396\n",
      "Epoch 3/30\n",
      " - 0s - loss: 0.5863 - val_loss: 0.5996\n",
      "Epoch 4/30\n",
      " - 0s - loss: 0.5410 - val_loss: 0.5673\n",
      "Epoch 5/30\n",
      " - 0s - loss: 0.4975 - val_loss: 0.5388\n",
      "Epoch 6/30\n",
      " - 0s - loss: 0.4635 - val_loss: 0.5161\n",
      "Epoch 7/30\n",
      " - 0s - loss: 0.4266 - val_loss: 0.5075\n",
      "Epoch 8/30\n",
      " - 0s - loss: 0.4114 - val_loss: 0.4997\n",
      "Epoch 9/30\n",
      " - 0s - loss: 0.3925 - val_loss: 0.4993\n",
      "Epoch 10/30\n",
      " - 0s - loss: 0.3821 - val_loss: 0.4992\n",
      "Epoch 11/30\n",
      " - 0s - loss: 0.3715 - val_loss: 0.4990\n",
      "Epoch 12/30\n",
      " - 0s - loss: 0.3663 - val_loss: 0.4995\n"
     ]
    },
    {
     "data": {
      "text/plain": [
       "<keras.callbacks.History at 0x7fb69129acf8>"
      ]
     },
     "execution_count": 41,
     "metadata": {},
     "output_type": "execute_result"
    }
   ],
   "source": [
    "estimator.fit(X_train, y_train)"
   ]
  },
  {
   "cell_type": "code",
   "execution_count": 28,
   "metadata": {},
   "outputs": [],
   "source": [
    "y_preds = estimator.predict_proba(X_test)[:,1]"
   ]
  },
  {
   "cell_type": "code",
   "execution_count": 29,
   "metadata": {},
   "outputs": [
    {
     "data": {
      "text/plain": [
       "array([0.34716144, 0.04737139, 0.85490656, 0.11767995, 0.8636585 ],\n",
       "      dtype=float32)"
      ]
     },
     "execution_count": 29,
     "metadata": {},
     "output_type": "execute_result"
    }
   ],
   "source": [
    "y_preds[:5]"
   ]
  },
  {
   "cell_type": "code",
   "execution_count": 48,
   "metadata": {},
   "outputs": [],
   "source": [
    "sub = pd.DataFrame({'patient_id': test['patient_id'], 'heart_disease_present': y_preds})"
   ]
  },
  {
   "cell_type": "code",
   "execution_count": 49,
   "metadata": {},
   "outputs": [
    {
     "data": {
      "text/html": [
       "<div>\n",
       "<style scoped>\n",
       "    .dataframe tbody tr th:only-of-type {\n",
       "        vertical-align: middle;\n",
       "    }\n",
       "\n",
       "    .dataframe tbody tr th {\n",
       "        vertical-align: top;\n",
       "    }\n",
       "\n",
       "    .dataframe thead th {\n",
       "        text-align: right;\n",
       "    }\n",
       "</style>\n",
       "<table border=\"1\" class=\"dataframe\">\n",
       "  <thead>\n",
       "    <tr style=\"text-align: right;\">\n",
       "      <th></th>\n",
       "      <th>patient_id</th>\n",
       "      <th>heart_disease_present</th>\n",
       "    </tr>\n",
       "  </thead>\n",
       "  <tbody>\n",
       "    <tr>\n",
       "      <th>0</th>\n",
       "      <td>olalu7</td>\n",
       "      <td>0.062572</td>\n",
       "    </tr>\n",
       "    <tr>\n",
       "      <th>1</th>\n",
       "      <td>z9n6mx</td>\n",
       "      <td>0.075576</td>\n",
       "    </tr>\n",
       "    <tr>\n",
       "      <th>2</th>\n",
       "      <td>5k4413</td>\n",
       "      <td>0.896371</td>\n",
       "    </tr>\n",
       "    <tr>\n",
       "      <th>3</th>\n",
       "      <td>mrg7q5</td>\n",
       "      <td>0.005589</td>\n",
       "    </tr>\n",
       "    <tr>\n",
       "      <th>4</th>\n",
       "      <td>uki4do</td>\n",
       "      <td>0.995853</td>\n",
       "    </tr>\n",
       "  </tbody>\n",
       "</table>\n",
       "</div>"
      ],
      "text/plain": [
       "  patient_id  heart_disease_present\n",
       "0     olalu7               0.062572\n",
       "1     z9n6mx               0.075576\n",
       "2     5k4413               0.896371\n",
       "3     mrg7q5               0.005589\n",
       "4     uki4do               0.995853"
      ]
     },
     "execution_count": 49,
     "metadata": {},
     "output_type": "execute_result"
    }
   ],
   "source": [
    "sub.head()"
   ]
  },
  {
   "cell_type": "code",
   "execution_count": 50,
   "metadata": {},
   "outputs": [],
   "source": [
    "sub.to_csv('../submissions/keras_3.csv', index=False)"
   ]
  },
  {
   "cell_type": "code",
   "execution_count": null,
   "metadata": {},
   "outputs": [],
   "source": []
  },
  {
   "cell_type": "code",
   "execution_count": null,
   "metadata": {},
   "outputs": [],
   "source": []
  },
  {
   "cell_type": "code",
   "execution_count": null,
   "metadata": {},
   "outputs": [],
   "source": []
  },
  {
   "cell_type": "code",
   "execution_count": null,
   "metadata": {},
   "outputs": [],
   "source": []
  },
  {
   "cell_type": "markdown",
   "metadata": {},
   "source": [
    "# CV"
   ]
  },
  {
   "cell_type": "code",
   "execution_count": 9,
   "metadata": {},
   "outputs": [],
   "source": [
    "callbacks = [EarlyStopping(monitor='val_loss',\n",
    "                           min_delta=0,\n",
    "                           patience=1,\n",
    "                           verbose=0,\n",
    "                           mode='min',\n",
    "                           restore_best_weights=True)]"
   ]
  },
  {
   "cell_type": "code",
   "execution_count": 10,
   "metadata": {},
   "outputs": [],
   "source": [
    "def ll(y_true, y_pred):\n",
    "    return log_loss(y_true, y_pred)"
   ]
  },
  {
   "cell_type": "code",
   "execution_count": 11,
   "metadata": {},
   "outputs": [],
   "source": [
    "def create_baseline():\n",
    "    model = Sequential()\n",
    "    model.add(Dense(24, input_dim=X_train.shape[1], kernel_initializer='normal', activation='relu'))\n",
    "    model.add(Dense(16))\n",
    "#     model.add(Dense(8))\n",
    "#     model.add(Dense(4))\n",
    "    model.add(Dense(1, kernel_initializer='uniform', activation='sigmoid'))\n",
    "    model.compile(loss='binary_crossentropy', optimizer='adam',)#adam\n",
    "    return model\n",
    "\n",
    "sgd = SGD(lr = 0.01, momentum = 0.9)"
   ]
  },
  {
   "cell_type": "code",
   "execution_count": 12,
   "metadata": {},
   "outputs": [],
   "source": [
    "train_ids = X_train.index\n",
    "skf = StratifiedKFold(n_splits=5, shuffle=True, random_state=42)\n",
    "model_name = 'keras'"
   ]
  },
  {
   "cell_type": "code",
   "execution_count": 13,
   "metadata": {},
   "outputs": [
    {
     "name": "stdout",
     "output_type": "stream",
     "text": [
      "Fold 1\n",
      "\n",
      "WARNING:tensorflow:From /home/errodringer/.local/lib/python3.6/site-packages/tensorflow/python/ops/math_ops.py:3066: to_int32 (from tensorflow.python.ops.math_ops) is deprecated and will be removed in a future version.\n",
      "Instructions for updating:\n",
      "Use tf.cast instead.\n",
      "Train on 144 samples, validate on 36 samples\n",
      "Epoch 1/100\n",
      " - 0s - loss: 0.6923 - val_loss: 0.6885\n",
      "Epoch 2/100\n",
      " - 0s - loss: 0.6866 - val_loss: 0.6807\n",
      "Epoch 3/100\n",
      " - 0s - loss: 0.6782 - val_loss: 0.6635\n",
      "Epoch 4/100\n",
      " - 0s - loss: 0.6624 - val_loss: 0.6372\n",
      "Epoch 5/100\n",
      " - 0s - loss: 0.6380 - val_loss: 0.5925\n",
      "Epoch 6/100\n",
      " - 0s - loss: 0.5995 - val_loss: 0.5304\n",
      "Epoch 7/100\n",
      " - 0s - loss: 0.5543 - val_loss: 0.4559\n",
      "Epoch 8/100\n",
      " - 0s - loss: 0.5060 - val_loss: 0.4035\n",
      "Epoch 9/100\n",
      " - 0s - loss: 0.4887 - val_loss: 0.3665\n",
      "Epoch 10/100\n",
      " - 0s - loss: 0.4648 - val_loss: 0.3393\n",
      "Epoch 11/100\n",
      " - 0s - loss: 0.4555 - val_loss: 0.3342\n",
      "Epoch 12/100\n",
      " - 0s - loss: 0.4458 - val_loss: 0.3323\n",
      "Epoch 13/100\n",
      " - 0s - loss: 0.4364 - val_loss: 0.3322\n",
      "Epoch 14/100\n",
      " - 0s - loss: 0.4279 - val_loss: 0.3286\n",
      "Epoch 15/100\n",
      " - 0s - loss: 0.4270 - val_loss: 0.3274\n",
      "Epoch 16/100\n",
      " - 0s - loss: 0.4237 - val_loss: 0.3264\n",
      "Epoch 17/100\n",
      " - 0s - loss: 0.4145 - val_loss: 0.3268\n",
      "Fold 2\n",
      "\n",
      "Train on 144 samples, validate on 36 samples\n",
      "Epoch 1/100\n",
      " - 0s - loss: 0.6913 - val_loss: 0.6898\n",
      "Epoch 2/100\n",
      " - 0s - loss: 0.6847 - val_loss: 0.6841\n",
      "Epoch 3/100\n",
      " - 0s - loss: 0.6693 - val_loss: 0.6716\n",
      "Epoch 4/100\n",
      " - 0s - loss: 0.6410 - val_loss: 0.6475\n",
      "Epoch 5/100\n",
      " - 0s - loss: 0.5910 - val_loss: 0.6161\n",
      "Epoch 6/100\n",
      " - 0s - loss: 0.5281 - val_loss: 0.5869\n",
      "Epoch 7/100\n",
      " - 0s - loss: 0.4676 - val_loss: 0.5743\n",
      "Epoch 8/100\n",
      " - 0s - loss: 0.4227 - val_loss: 0.5730\n",
      "Epoch 9/100\n",
      " - 0s - loss: 0.4015 - val_loss: 0.5898\n",
      "Fold 3\n",
      "\n",
      "Train on 144 samples, validate on 36 samples\n",
      "Epoch 1/100\n",
      " - 0s - loss: 0.6914 - val_loss: 0.6886\n",
      "Epoch 2/100\n",
      " - 0s - loss: 0.6848 - val_loss: 0.6798\n",
      "Epoch 3/100\n",
      " - 0s - loss: 0.6713 - val_loss: 0.6619\n",
      "Epoch 4/100\n",
      " - 0s - loss: 0.6456 - val_loss: 0.6317\n",
      "Epoch 5/100\n",
      " - 0s - loss: 0.6071 - val_loss: 0.5861\n",
      "Epoch 6/100\n",
      " - 0s - loss: 0.5595 - val_loss: 0.5400\n",
      "Epoch 7/100\n",
      " - 0s - loss: 0.5092 - val_loss: 0.4872\n",
      "Epoch 8/100\n",
      " - 0s - loss: 0.4689 - val_loss: 0.4619\n",
      "Epoch 9/100\n",
      " - 0s - loss: 0.4432 - val_loss: 0.4415\n",
      "Epoch 10/100\n",
      " - 0s - loss: 0.4315 - val_loss: 0.4286\n",
      "Epoch 11/100\n",
      " - 0s - loss: 0.4288 - val_loss: 0.4243\n",
      "Epoch 12/100\n",
      " - 0s - loss: 0.4196 - val_loss: 0.4215\n",
      "Epoch 13/100\n",
      " - 0s - loss: 0.4162 - val_loss: 0.4144\n",
      "Epoch 14/100\n",
      " - 0s - loss: 0.4111 - val_loss: 0.4225\n",
      "Fold 4\n",
      "\n",
      "Train on 144 samples, validate on 36 samples\n",
      "Epoch 1/100\n",
      " - 0s - loss: 0.6936 - val_loss: 0.6912\n",
      "Epoch 2/100\n",
      " - 0s - loss: 0.6894 - val_loss: 0.6863\n",
      "Epoch 3/100\n",
      " - 0s - loss: 0.6829 - val_loss: 0.6773\n",
      "Epoch 4/100\n",
      " - 0s - loss: 0.6722 - val_loss: 0.6606\n",
      "Epoch 5/100\n",
      " - 0s - loss: 0.6513 - val_loss: 0.6328\n",
      "Epoch 6/100\n",
      " - 0s - loss: 0.6209 - val_loss: 0.5865\n",
      "Epoch 7/100\n",
      " - 0s - loss: 0.5747 - val_loss: 0.5312\n",
      "Epoch 8/100\n",
      " - 0s - loss: 0.5265 - val_loss: 0.4754\n",
      "Epoch 9/100\n",
      " - 0s - loss: 0.4902 - val_loss: 0.4302\n",
      "Epoch 10/100\n",
      " - 0s - loss: 0.4636 - val_loss: 0.4047\n",
      "Epoch 11/100\n",
      " - 0s - loss: 0.4488 - val_loss: 0.3840\n",
      "Epoch 12/100\n",
      " - 0s - loss: 0.4427 - val_loss: 0.3773\n",
      "Epoch 13/100\n",
      " - 0s - loss: 0.4396 - val_loss: 0.3688\n",
      "Epoch 14/100\n",
      " - 0s - loss: 0.4294 - val_loss: 0.3706\n",
      "Fold 5\n",
      "\n",
      "Train on 144 samples, validate on 36 samples\n",
      "Epoch 1/100\n",
      " - 0s - loss: 0.6914 - val_loss: 0.6896\n",
      "Epoch 2/100\n",
      " - 0s - loss: 0.6850 - val_loss: 0.6833\n",
      "Epoch 3/100\n",
      " - 0s - loss: 0.6721 - val_loss: 0.6709\n",
      "Epoch 4/100\n",
      " - 0s - loss: 0.6492 - val_loss: 0.6470\n",
      "Epoch 5/100\n",
      " - 0s - loss: 0.6115 - val_loss: 0.6112\n",
      "Epoch 6/100\n",
      " - 0s - loss: 0.5559 - val_loss: 0.5720\n",
      "Epoch 7/100\n",
      " - 0s - loss: 0.4968 - val_loss: 0.5430\n",
      "Epoch 8/100\n",
      " - 0s - loss: 0.4566 - val_loss: 0.5302\n",
      "Epoch 9/100\n",
      " - 0s - loss: 0.4285 - val_loss: 0.5317\n"
     ]
    }
   ],
   "source": [
    "counter = 1\n",
    "y_preds = np.zeros(X_test.shape[0])\n",
    "stack = pd.DataFrame()\n",
    "stack2 = pd.DataFrame()\n",
    "for train_index, test_index in skf.split(train_ids, y_train):\n",
    "    print('Fold {}\\n'.format(counter))\n",
    "\n",
    "    X_fit, X_val = X_train.iloc[train_index, :], X_train.iloc[test_index, :]\n",
    "    y_fit, y_val = y_train.iloc[train_index], y_train.iloc[test_index]\n",
    "    \n",
    "    estimator = KerasClassifier(build_fn=create_baseline, epochs=100,\n",
    "                                batch_size=8, verbose=2, validation_data=(X_val, y_val),\n",
    "                                callbacks=callbacks)\n",
    "    model = create_baseline()\n",
    "    \n",
    "\n",
    "    estimator.fit(X_fit,\n",
    "                  y_fit)\n",
    "    \n",
    "    y_preds += estimator.predict_proba(X_test)[:,1]\n",
    "    stack2['patient_id'] = train['patient_id'][test_index].tolist()\n",
    "    stack2['heart_disease_present'] = estimator.predict_proba(X_val)[:,1]\n",
    "    stack = pd.concat([stack, stack2], axis = 0)\n",
    "#     print(log_loss(y_val, estimator.predict_proba(X_val)))\n",
    "\n",
    "    del X_fit\n",
    "    del X_val\n",
    "    del y_fit\n",
    "    del y_val\n",
    "    del train_index\n",
    "    del test_index\n",
    "    gc.collect()\n",
    "\n",
    "#     print('Guardamos el modelo')\n",
    "#     joblib.dump(lgb_model, 'saved_models/{}_{}.pkl'.format(model_name, counter))\n",
    "\n",
    "    counter += 1\n",
    "    \n",
    "y_preds = y_preds / (counter-1)"
   ]
  },
  {
   "cell_type": "code",
   "execution_count": 14,
   "metadata": {},
   "outputs": [
    {
     "data": {
      "text/html": [
       "<div>\n",
       "<style scoped>\n",
       "    .dataframe tbody tr th:only-of-type {\n",
       "        vertical-align: middle;\n",
       "    }\n",
       "\n",
       "    .dataframe tbody tr th {\n",
       "        vertical-align: top;\n",
       "    }\n",
       "\n",
       "    .dataframe thead th {\n",
       "        text-align: right;\n",
       "    }\n",
       "</style>\n",
       "<table border=\"1\" class=\"dataframe\">\n",
       "  <thead>\n",
       "    <tr style=\"text-align: right;\">\n",
       "      <th></th>\n",
       "      <th>patient_id</th>\n",
       "      <th>heart_disease_present</th>\n",
       "    </tr>\n",
       "  </thead>\n",
       "  <tbody>\n",
       "    <tr>\n",
       "      <th>0</th>\n",
       "      <td>0z64un</td>\n",
       "      <td>0.100189</td>\n",
       "    </tr>\n",
       "    <tr>\n",
       "      <th>1</th>\n",
       "      <td>yt1s1x</td>\n",
       "      <td>0.889463</td>\n",
       "    </tr>\n",
       "    <tr>\n",
       "      <th>2</th>\n",
       "      <td>3nwy2n</td>\n",
       "      <td>0.910203</td>\n",
       "    </tr>\n",
       "    <tr>\n",
       "      <th>3</th>\n",
       "      <td>1r508r</td>\n",
       "      <td>0.154261</td>\n",
       "    </tr>\n",
       "    <tr>\n",
       "      <th>4</th>\n",
       "      <td>cvux3j</td>\n",
       "      <td>0.134719</td>\n",
       "    </tr>\n",
       "  </tbody>\n",
       "</table>\n",
       "</div>"
      ],
      "text/plain": [
       "  patient_id  heart_disease_present\n",
       "0     0z64un               0.100189\n",
       "1     yt1s1x               0.889463\n",
       "2     3nwy2n               0.910203\n",
       "3     1r508r               0.154261\n",
       "4     cvux3j               0.134719"
      ]
     },
     "execution_count": 14,
     "metadata": {},
     "output_type": "execute_result"
    }
   ],
   "source": [
    "stack.head()"
   ]
  },
  {
   "cell_type": "code",
   "execution_count": 15,
   "metadata": {},
   "outputs": [],
   "source": [
    "stack.to_csv('../stacking/data/train_{}.csv'.format(model_name), index=False)"
   ]
  },
  {
   "cell_type": "code",
   "execution_count": 16,
   "metadata": {},
   "outputs": [
    {
     "data": {
      "text/plain": [
       "array([0.32616482, 0.06583074, 0.81569513, 0.14843071, 0.84419267])"
      ]
     },
     "execution_count": 16,
     "metadata": {},
     "output_type": "execute_result"
    }
   ],
   "source": [
    "y_preds[:5]"
   ]
  },
  {
   "cell_type": "code",
   "execution_count": 17,
   "metadata": {},
   "outputs": [],
   "source": [
    "sub = pd.DataFrame({'patient_id': test['patient_id'], 'heart_disease_present': y_preds})"
   ]
  },
  {
   "cell_type": "code",
   "execution_count": 18,
   "metadata": {},
   "outputs": [],
   "source": [
    "sub.to_csv('../stacking/data/test_{}.csv'.format(model_name), index=False)"
   ]
  },
  {
   "cell_type": "code",
   "execution_count": null,
   "metadata": {},
   "outputs": [],
   "source": []
  }
 ],
 "metadata": {
  "kernelspec": {
   "display_name": "Python 3",
   "language": "python",
   "name": "python3"
  },
  "language_info": {
   "codemirror_mode": {
    "name": "ipython",
    "version": 3
   },
   "file_extension": ".py",
   "mimetype": "text/x-python",
   "name": "python",
   "nbconvert_exporter": "python",
   "pygments_lexer": "ipython3",
   "version": "3.6.7"
  }
 },
 "nbformat": 4,
 "nbformat_minor": 2
}
