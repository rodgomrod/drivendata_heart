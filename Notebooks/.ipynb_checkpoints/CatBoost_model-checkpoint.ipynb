{
 "cells": [
  {
   "cell_type": "markdown",
   "metadata": {},
   "source": [
    "# Librerías"
   ]
  },
  {
   "cell_type": "code",
   "execution_count": 8,
   "metadata": {},
   "outputs": [],
   "source": [
    "import pandas as pd\n",
    "import numpy as np\n",
    "import glob\n",
    "from sklearn.model_selection import StratifiedKFold, RandomizedSearchCV\n",
    "from sklearn.externals import joblib\n",
    "from catboost import CatBoostClassifier\n",
    "import gc\n",
    "import seaborn as sns\n",
    "import matplotlib.pyplot as plt\n",
    "import sys\n",
    "\n",
    "import warnings\n",
    "warnings.filterwarnings(\"ignore\")"
   ]
  },
  {
   "cell_type": "markdown",
   "metadata": {},
   "source": [
    "# Datos"
   ]
  },
  {
   "cell_type": "code",
   "execution_count": 9,
   "metadata": {},
   "outputs": [],
   "source": [
    "train = pd.read_csv('../data/Processed/train.csv')\n",
    "sel_cols = [c for c in train.columns if c != 'patient_id']\n",
    "X_train = train.loc[:,sel_cols]\n",
    "y_train = pd.read_csv('../data/raw/train_labels.csv', usecols=['heart_disease_present'])\n",
    "test = pd.read_csv('../data/Processed/test.csv')\n",
    "X_test = test.loc[:,sel_cols]"
   ]
  },
  {
   "cell_type": "code",
   "execution_count": 10,
   "metadata": {},
   "outputs": [
    {
     "data": {
      "text/html": [
       "<div>\n",
       "<style scoped>\n",
       "    .dataframe tbody tr th:only-of-type {\n",
       "        vertical-align: middle;\n",
       "    }\n",
       "\n",
       "    .dataframe tbody tr th {\n",
       "        vertical-align: top;\n",
       "    }\n",
       "\n",
       "    .dataframe thead th {\n",
       "        text-align: right;\n",
       "    }\n",
       "</style>\n",
       "<table border=\"1\" class=\"dataframe\">\n",
       "  <thead>\n",
       "    <tr style=\"text-align: right;\">\n",
       "      <th></th>\n",
       "      <th>slope_of_peak_exercise_st_segment</th>\n",
       "      <th>thal</th>\n",
       "      <th>resting_blood_pressure</th>\n",
       "      <th>chest_pain_type</th>\n",
       "      <th>num_major_vessels</th>\n",
       "      <th>fasting_blood_sugar_gt_120_mg_per_dl</th>\n",
       "      <th>resting_ekg_results</th>\n",
       "      <th>serum_cholesterol_mg_per_dl</th>\n",
       "      <th>oldpeak_eq_st_depression</th>\n",
       "      <th>sex</th>\n",
       "      <th>age</th>\n",
       "      <th>max_heart_rate_achieved</th>\n",
       "      <th>exercise_induced_angina</th>\n",
       "    </tr>\n",
       "  </thead>\n",
       "  <tbody>\n",
       "    <tr>\n",
       "      <th>0</th>\n",
       "      <td>1</td>\n",
       "      <td>1</td>\n",
       "      <td>128</td>\n",
       "      <td>2</td>\n",
       "      <td>0</td>\n",
       "      <td>0</td>\n",
       "      <td>2</td>\n",
       "      <td>308</td>\n",
       "      <td>0.0</td>\n",
       "      <td>1</td>\n",
       "      <td>45</td>\n",
       "      <td>170</td>\n",
       "      <td>0</td>\n",
       "    </tr>\n",
       "    <tr>\n",
       "      <th>1</th>\n",
       "      <td>2</td>\n",
       "      <td>1</td>\n",
       "      <td>110</td>\n",
       "      <td>3</td>\n",
       "      <td>0</td>\n",
       "      <td>0</td>\n",
       "      <td>0</td>\n",
       "      <td>214</td>\n",
       "      <td>1.6</td>\n",
       "      <td>0</td>\n",
       "      <td>54</td>\n",
       "      <td>158</td>\n",
       "      <td>0</td>\n",
       "    </tr>\n",
       "    <tr>\n",
       "      <th>2</th>\n",
       "      <td>1</td>\n",
       "      <td>1</td>\n",
       "      <td>125</td>\n",
       "      <td>4</td>\n",
       "      <td>3</td>\n",
       "      <td>0</td>\n",
       "      <td>2</td>\n",
       "      <td>304</td>\n",
       "      <td>0.0</td>\n",
       "      <td>1</td>\n",
       "      <td>77</td>\n",
       "      <td>162</td>\n",
       "      <td>1</td>\n",
       "    </tr>\n",
       "    <tr>\n",
       "      <th>3</th>\n",
       "      <td>1</td>\n",
       "      <td>2</td>\n",
       "      <td>152</td>\n",
       "      <td>4</td>\n",
       "      <td>0</td>\n",
       "      <td>0</td>\n",
       "      <td>0</td>\n",
       "      <td>223</td>\n",
       "      <td>0.0</td>\n",
       "      <td>1</td>\n",
       "      <td>40</td>\n",
       "      <td>181</td>\n",
       "      <td>0</td>\n",
       "    </tr>\n",
       "    <tr>\n",
       "      <th>4</th>\n",
       "      <td>3</td>\n",
       "      <td>2</td>\n",
       "      <td>178</td>\n",
       "      <td>1</td>\n",
       "      <td>0</td>\n",
       "      <td>0</td>\n",
       "      <td>2</td>\n",
       "      <td>270</td>\n",
       "      <td>4.2</td>\n",
       "      <td>1</td>\n",
       "      <td>59</td>\n",
       "      <td>145</td>\n",
       "      <td>0</td>\n",
       "    </tr>\n",
       "  </tbody>\n",
       "</table>\n",
       "</div>"
      ],
      "text/plain": [
       "   slope_of_peak_exercise_st_segment  thal  resting_blood_pressure  \\\n",
       "0                                  1     1                     128   \n",
       "1                                  2     1                     110   \n",
       "2                                  1     1                     125   \n",
       "3                                  1     2                     152   \n",
       "4                                  3     2                     178   \n",
       "\n",
       "   chest_pain_type  num_major_vessels  fasting_blood_sugar_gt_120_mg_per_dl  \\\n",
       "0                2                  0                                     0   \n",
       "1                3                  0                                     0   \n",
       "2                4                  3                                     0   \n",
       "3                4                  0                                     0   \n",
       "4                1                  0                                     0   \n",
       "\n",
       "   resting_ekg_results  serum_cholesterol_mg_per_dl  oldpeak_eq_st_depression  \\\n",
       "0                    2                          308                       0.0   \n",
       "1                    0                          214                       1.6   \n",
       "2                    2                          304                       0.0   \n",
       "3                    0                          223                       0.0   \n",
       "4                    2                          270                       4.2   \n",
       "\n",
       "   sex  age  max_heart_rate_achieved  exercise_induced_angina  \n",
       "0    1   45                      170                        0  \n",
       "1    0   54                      158                        0  \n",
       "2    1   77                      162                        1  \n",
       "3    1   40                      181                        0  \n",
       "4    1   59                      145                        0  "
      ]
     },
     "execution_count": 10,
     "metadata": {},
     "output_type": "execute_result"
    }
   ],
   "source": [
    "X_train.head()"
   ]
  },
  {
   "cell_type": "code",
   "execution_count": 11,
   "metadata": {},
   "outputs": [],
   "source": [
    "cat_ft_id = list()\n",
    "cat_ft = ['thal', 'chest_pain_type', 'sex']\n",
    "\n",
    "n = 0\n",
    "for c in sel_cols:\n",
    "    if c in cat_ft:\n",
    "        cat_ft_id.append(n)\n",
    "    n += 1"
   ]
  },
  {
   "cell_type": "markdown",
   "metadata": {},
   "source": [
    "# Random Search\n",
    "\n",
    "Para la búsqueda de la mejor combinación de parámetros para este problema."
   ]
  },
  {
   "cell_type": "code",
   "execution_count": 92,
   "metadata": {},
   "outputs": [],
   "source": [
    "params = {\n",
    "    'depth':np.arange(3, 7, 1),\n",
    "    'iterations':[500],\n",
    "    'eval_metric':['Logloss'],\n",
    "    'random_seed':[42],\n",
    "    'verbose':[0],\n",
    "    'allow_writing_files':[False],\n",
    "    'early_stopping_rounds':[5],\n",
    "    'learning_rate':np.arange(0.01, 0.2, 0.01),\n",
    "    'thread_count':[1],\n",
    "    'boosting_type':['Plain'],\n",
    "    'bootstrap_type':['Bernoulli'],\n",
    "    'colsample_bylevel':np.arange(0.1, 1.1, 0.1),\n",
    "    'l2_leaf_reg':np.arange(0, 10, 1),\n",
    "    'border_count':np.arange(1, 255, 5),\n",
    "    'max_delta_step':np.arange(1, 11, 1)\n",
    "}\n",
    "\n",
    "model_cb = CatBoostClassifier()\n",
    "\n",
    "rscv = RandomizedSearchCV(model_cb,\n",
    "                          params,\n",
    "                          verbose=1,\n",
    "                          random_state=42,\n",
    "                          scoring='roc_auc',\n",
    "                          n_iter=60,\n",
    "                          cv = 5,\n",
    "                          n_jobs=-1)"
   ]
  },
  {
   "cell_type": "code",
   "execution_count": 93,
   "metadata": {},
   "outputs": [
    {
     "name": "stdout",
     "output_type": "stream",
     "text": [
      "Fitting 5 folds for each of 60 candidates, totalling 300 fits\n"
     ]
    },
    {
     "name": "stderr",
     "output_type": "stream",
     "text": [
      "[Parallel(n_jobs=-1)]: Using backend LokyBackend with 8 concurrent workers.\n",
      "[Parallel(n_jobs=-1)]: Done  34 tasks      | elapsed:    4.3s\n",
      "[Parallel(n_jobs=-1)]: Done 184 tasks      | elapsed:   21.7s\n",
      "[Parallel(n_jobs=-1)]: Done 300 out of 300 | elapsed:   38.8s finished\n"
     ]
    },
    {
     "data": {
      "text/plain": [
       "RandomizedSearchCV(cv=5, error_score='raise-deprecating',\n",
       "          estimator=<catboost.core.CatBoostClassifier object at 0x7fd5e9ea5dd8>,\n",
       "          fit_params=None, iid='warn', n_iter=60, n_jobs=-1,\n",
       "          param_distributions={'depth': array([3, 4, 5, 6]), 'iterations': [500], 'eval_metric': ['Logloss'], 'random_seed': [42], 'verbose': [0], 'allow_writing_files': [False], 'early_stopping_rounds': [5], 'learning_rate': array([0.01, 0.02, 0.03, 0.04, 0.05, 0.06, 0.07, 0.08, 0.09, 0.1 , 0.11,\n",
       "       0.12..., 166, 171, 176, 181, 186, 191,\n",
       "       196, 201, 206, 211, 216, 221, 226, 231, 236, 241, 246, 251])},\n",
       "          pre_dispatch='2*n_jobs', random_state=42, refit=True,\n",
       "          return_train_score='warn', scoring='roc_auc', verbose=1)"
      ]
     },
     "execution_count": 93,
     "metadata": {},
     "output_type": "execute_result"
    }
   ],
   "source": [
    "rscv.fit(X_train, y_train)"
   ]
  },
  {
   "cell_type": "markdown",
   "metadata": {},
   "source": [
    "## Mejores parámetros y mejor score"
   ]
  },
  {
   "cell_type": "code",
   "execution_count": 94,
   "metadata": {},
   "outputs": [
    {
     "name": "stdout",
     "output_type": "stream",
     "text": [
      "{'verbose': 0, 'thread_count': 1, 'random_seed': 42, 'learning_rate': 0.01, 'l2_leaf_reg': 5, 'iterations': 500, 'eval_metric': 'Logloss', 'early_stopping_rounds': 5, 'depth': 4, 'colsample_bylevel': 0.4, 'border_count': 216, 'bootstrap_type': 'Bernoulli', 'boosting_type': 'Plain', 'allow_writing_files': False} \n",
      "\n",
      "0.901875\n"
     ]
    }
   ],
   "source": [
    "print(rscv.best_params_,'\\n')\n",
    "print(rscv.best_score_)"
   ]
  },
  {
   "cell_type": "code",
   "execution_count": 95,
   "metadata": {},
   "outputs": [],
   "source": [
    "model_name = 'catb_1'\n",
    "\n",
    "# params={'verbose': 0, 'thread_count': 1, 'random_seed': 42,\n",
    "#         'learning_rate': 0.04, 'l2_leaf_reg': 5, 'iterations': 1000,\n",
    "#         'eval_metric': 'Logloss', 'early_stopping_rounds': 5,\n",
    "#         'depth': 5, 'colsample_bylevel': 0.1, 'border_count': 231,\n",
    "#         'bootstrap_type': 'Bernoulli', 'boosting_type': 'Plain', 'allow_writing_files': False}\n",
    "\n",
    "params = rscv.best_params_\n",
    "\n",
    "model_cb = CatBoostClassifier(**params)"
   ]
  },
  {
   "cell_type": "markdown",
   "metadata": {},
   "source": [
    "# Entrenamos modelo de CatBoost final\n",
    "\n",
    "Guardamos los resultados para hacer Stacking"
   ]
  },
  {
   "cell_type": "code",
   "execution_count": 96,
   "metadata": {},
   "outputs": [],
   "source": [
    "train_ids = X_train.index\n",
    "k1 = 5\n",
    "k2 = 5\n",
    "skf1 = StratifiedKFold(n_splits=k1, shuffle=True, random_state=42)\n",
    "skf2 = StratifiedKFold(n_splits=k2, shuffle=True, random_state=42)"
   ]
  },
  {
   "cell_type": "code",
   "execution_count": 107,
   "metadata": {
    "scrolled": true
   },
   "outputs": [
    {
     "name": "stdout",
     "output_type": "stream",
     "text": [
      "Fold k1 1\n",
      "\n",
      "Fold k1 2\n",
      "\n",
      "Fold k1 3\n",
      "\n",
      "Fold k1 4\n",
      "\n",
      "Fold k1 5\n",
      "\n",
      "\n",
      "\n",
      "BEST SCORE MEAN: 0.427263915761494\n"
     ]
    }
   ],
   "source": [
    "counter1 = 1\n",
    "y_preds = np.zeros(X_test.shape[0])\n",
    "be = 0\n",
    "stack = pd.DataFrame()\n",
    "stack2 = pd.DataFrame()\n",
    "for train_index, test_index in skf1.split(train_ids, y_train):\n",
    "    counter2 = 1\n",
    "    print('Fold k1 {}\\n'.format(counter1))\n",
    "\n",
    "    X_fit, X_val = X_train.iloc[train_index, :], X_train.iloc[test_index, :]\n",
    "    y_fit, y_val = y_train.iloc[train_index], y_train.iloc[test_index]\n",
    "    \n",
    "    X_fit_ids = X_fit.index\n",
    "    \n",
    "    y_preds_stack = np.zeros(X_val.shape[0])\n",
    "    \n",
    "    for train_index2, test_index2 in skf2.split(X_fit_ids, y_fit):\n",
    "        \n",
    "#         print('Fold k2 {}\\n'.format(counter2))\n",
    "        \n",
    "        X_fit2, X_val2 = X_fit.iloc[train_index2, :], X_fit.iloc[test_index2, :]\n",
    "        y_fit2, y_val2 = y_fit.iloc[train_index2], y_fit.iloc[test_index2]\n",
    "\n",
    "        model_cb.fit(X_fit2,\n",
    "                     y_fit2,\n",
    "#                      cat_features=cat_ft_id,\n",
    "                     eval_set=(X_val2, y_val2),\n",
    "                     verbose=0)\n",
    "\n",
    "        y_preds += model_cb.predict_proba(X_test)[:,1]\n",
    "        y_preds_stack += model_cb.predict_proba(X_val)[:,1]\n",
    "\n",
    "        be += model_cb.best_score_['validation_0']['Logloss']\n",
    "        \n",
    "        del X_fit2\n",
    "        del X_val2\n",
    "        del y_fit2\n",
    "        del y_val2\n",
    "        del train_index2\n",
    "        del test_index2\n",
    "        gc.collect()\n",
    "\n",
    "    #     print('Guardamos el modelo')\n",
    "    #     joblib.dump(lgb_model, '../saved_models/{}_{}.pkl'.format(model_name, counter))\n",
    "\n",
    "    #     ft_importances += lgb_model.feature_importances_\n",
    "\n",
    "        counter2 += 1\n",
    "        \n",
    "    stack2['patient_id'] = train['patient_id'][test_index].tolist()\n",
    "    stack2['heart_disease_present'] = y_preds_stack/k2\n",
    "    stack = pd.concat([stack, stack2], axis = 0)\n",
    "    \n",
    "    del X_fit\n",
    "    del X_val\n",
    "    del y_fit\n",
    "    del y_val\n",
    "    del train_index\n",
    "    del test_index\n",
    "    gc.collect()\n",
    "\n",
    "    counter1 += 1\n",
    "    \n",
    "y_preds = y_preds / (k1*k2)\n",
    "\n",
    "print('\\n\\nBEST SCORE MEAN:', be / (k1*k2))\n",
    "stack.to_csv('../stacking/data/train_{}.csv'.format(model_name), index=False)\n",
    "sub = pd.DataFrame({'patient_id': test['patient_id'], 'heart_disease_present': y_preds})\n",
    "sub.to_csv('../stacking/data/test_{}.csv'.format(model_name), index=False)"
   ]
  },
  {
   "cell_type": "code",
   "execution_count": 106,
   "metadata": {},
   "outputs": [
    {
     "data": {
      "text/html": [
       "<div>\n",
       "<style scoped>\n",
       "    .dataframe tbody tr th:only-of-type {\n",
       "        vertical-align: middle;\n",
       "    }\n",
       "\n",
       "    .dataframe tbody tr th {\n",
       "        vertical-align: top;\n",
       "    }\n",
       "\n",
       "    .dataframe thead th {\n",
       "        text-align: right;\n",
       "    }\n",
       "</style>\n",
       "<table border=\"1\" class=\"dataframe\">\n",
       "  <thead>\n",
       "    <tr style=\"text-align: right;\">\n",
       "      <th></th>\n",
       "      <th>patient_id</th>\n",
       "      <th>heart_disease_present</th>\n",
       "    </tr>\n",
       "  </thead>\n",
       "  <tbody>\n",
       "    <tr>\n",
       "      <th>0</th>\n",
       "      <td>0z64un</td>\n",
       "      <td>0.165663</td>\n",
       "    </tr>\n",
       "    <tr>\n",
       "      <th>1</th>\n",
       "      <td>yt1s1x</td>\n",
       "      <td>0.677301</td>\n",
       "    </tr>\n",
       "    <tr>\n",
       "      <th>2</th>\n",
       "      <td>3nwy2n</td>\n",
       "      <td>0.834165</td>\n",
       "    </tr>\n",
       "    <tr>\n",
       "      <th>3</th>\n",
       "      <td>1r508r</td>\n",
       "      <td>0.141079</td>\n",
       "    </tr>\n",
       "    <tr>\n",
       "      <th>4</th>\n",
       "      <td>cvux3j</td>\n",
       "      <td>0.186239</td>\n",
       "    </tr>\n",
       "    <tr>\n",
       "      <th>5</th>\n",
       "      <td>jhdvtb</td>\n",
       "      <td>0.292091</td>\n",
       "    </tr>\n",
       "    <tr>\n",
       "      <th>6</th>\n",
       "      <td>lek9q9</td>\n",
       "      <td>0.243899</td>\n",
       "    </tr>\n",
       "    <tr>\n",
       "      <th>7</th>\n",
       "      <td>8265rl</td>\n",
       "      <td>0.227086</td>\n",
       "    </tr>\n",
       "    <tr>\n",
       "      <th>8</th>\n",
       "      <td>k7ef7h</td>\n",
       "      <td>0.755893</td>\n",
       "    </tr>\n",
       "    <tr>\n",
       "      <th>9</th>\n",
       "      <td>xkdz7j</td>\n",
       "      <td>0.412519</td>\n",
       "    </tr>\n",
       "  </tbody>\n",
       "</table>\n",
       "</div>"
      ],
      "text/plain": [
       "  patient_id  heart_disease_present\n",
       "0     0z64un               0.165663\n",
       "1     yt1s1x               0.677301\n",
       "2     3nwy2n               0.834165\n",
       "3     1r508r               0.141079\n",
       "4     cvux3j               0.186239\n",
       "5     jhdvtb               0.292091\n",
       "6     lek9q9               0.243899\n",
       "7     8265rl               0.227086\n",
       "8     k7ef7h               0.755893\n",
       "9     xkdz7j               0.412519"
      ]
     },
     "execution_count": 106,
     "metadata": {},
     "output_type": "execute_result"
    }
   ],
   "source": [
    "stack.head(10)"
   ]
  },
  {
   "cell_type": "code",
   "execution_count": 99,
   "metadata": {},
   "outputs": [],
   "source": [
    "stack.to_csv('../stacking/data/train_{}.csv'.format(model_name), index=False)"
   ]
  },
  {
   "cell_type": "code",
   "execution_count": 100,
   "metadata": {},
   "outputs": [
    {
     "data": {
      "text/plain": [
       "array([0.44378202, 0.21548323, 0.84147298, 0.17008381, 0.74211812])"
      ]
     },
     "execution_count": 100,
     "metadata": {},
     "output_type": "execute_result"
    }
   ],
   "source": [
    "y_preds[:5]"
   ]
  },
  {
   "cell_type": "code",
   "execution_count": 101,
   "metadata": {},
   "outputs": [],
   "source": [
    "sub = pd.DataFrame({'patient_id': test['patient_id'], 'heart_disease_present': y_preds})"
   ]
  },
  {
   "cell_type": "code",
   "execution_count": 62,
   "metadata": {},
   "outputs": [],
   "source": [
    "sub.to_csv('../stacking/data/test_{}.csv'.format(model_name), index=False)"
   ]
  },
  {
   "cell_type": "code",
   "execution_count": 51,
   "metadata": {},
   "outputs": [
    {
     "data": {
      "text/plain": [
       "((180, 2), (90, 2))"
      ]
     },
     "execution_count": 51,
     "metadata": {},
     "output_type": "execute_result"
    }
   ],
   "source": [
    "stack.shape, sub.shape"
   ]
  }
 ],
 "metadata": {
  "kernelspec": {
   "display_name": "Python 3",
   "language": "python",
   "name": "python3"
  },
  "language_info": {
   "codemirror_mode": {
    "name": "ipython",
    "version": 3
   },
   "file_extension": ".py",
   "mimetype": "text/x-python",
   "name": "python",
   "nbconvert_exporter": "python",
   "pygments_lexer": "ipython3",
   "version": "3.6.7"
  }
 },
 "nbformat": 4,
 "nbformat_minor": 2
}
