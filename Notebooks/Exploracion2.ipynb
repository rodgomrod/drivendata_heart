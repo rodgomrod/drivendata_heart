{
 "cells": [
  {
   "cell_type": "code",
   "execution_count": 19,
   "metadata": {},
   "outputs": [],
   "source": [
    "import pandas as pd\n",
    "import numpy as np\n",
    "from pyod.utils.data import get_outliers_inliers\n",
    "import seaborn as sns\n",
    "import matplotlib.pyplot as plt\n",
    "from scipy import stats"
   ]
  },
  {
   "cell_type": "code",
   "execution_count": 6,
   "metadata": {},
   "outputs": [],
   "source": [
    "train = pd.read_csv('../data/raw/train_values.csv')\n",
    "X_train = train.loc[:,[c for c in train.columns if c != 'patient_id']]\n",
    "test = pd.read_csv('../data/raw/test_values.csv')\n",
    "X_test = test.loc[:,[c for c in test.columns if c != 'patient_id']]\n",
    "y_train = pd.read_csv('../data/raw/train_labels.csv', usecols=['heart_disease_present'])"
   ]
  },
  {
   "cell_type": "code",
   "execution_count": 10,
   "metadata": {},
   "outputs": [
    {
     "data": {
      "text/plain": [
       "Index(['patient_id', 'slope_of_peak_exercise_st_segment', 'thal',\n",
       "       'resting_blood_pressure', 'chest_pain_type', 'num_major_vessels',\n",
       "       'fasting_blood_sugar_gt_120_mg_per_dl', 'resting_ekg_results',\n",
       "       'serum_cholesterol_mg_per_dl', 'oldpeak_eq_st_depression', 'sex', 'age',\n",
       "       'max_heart_rate_achieved', 'exercise_induced_angina'],\n",
       "      dtype='object')"
      ]
     },
     "execution_count": 10,
     "metadata": {},
     "output_type": "execute_result"
    }
   ],
   "source": [
    "train.columns"
   ]
  },
  {
   "cell_type": "code",
   "execution_count": 23,
   "metadata": {},
   "outputs": [
    {
     "data": {
      "text/html": [
       "<div>\n",
       "<style scoped>\n",
       "    .dataframe tbody tr th:only-of-type {\n",
       "        vertical-align: middle;\n",
       "    }\n",
       "\n",
       "    .dataframe tbody tr th {\n",
       "        vertical-align: top;\n",
       "    }\n",
       "\n",
       "    .dataframe thead th {\n",
       "        text-align: right;\n",
       "    }\n",
       "</style>\n",
       "<table border=\"1\" class=\"dataframe\">\n",
       "  <thead>\n",
       "    <tr style=\"text-align: right;\">\n",
       "      <th></th>\n",
       "      <th>slope_of_peak_exercise_st_segment</th>\n",
       "      <th>thal</th>\n",
       "      <th>resting_blood_pressure</th>\n",
       "      <th>chest_pain_type</th>\n",
       "      <th>num_major_vessels</th>\n",
       "      <th>fasting_blood_sugar_gt_120_mg_per_dl</th>\n",
       "      <th>resting_ekg_results</th>\n",
       "      <th>serum_cholesterol_mg_per_dl</th>\n",
       "      <th>oldpeak_eq_st_depression</th>\n",
       "      <th>sex</th>\n",
       "      <th>age</th>\n",
       "      <th>max_heart_rate_achieved</th>\n",
       "      <th>exercise_induced_angina</th>\n",
       "    </tr>\n",
       "  </thead>\n",
       "  <tbody>\n",
       "    <tr>\n",
       "      <th>0</th>\n",
       "      <td>1</td>\n",
       "      <td>normal</td>\n",
       "      <td>128</td>\n",
       "      <td>2</td>\n",
       "      <td>0</td>\n",
       "      <td>0</td>\n",
       "      <td>2</td>\n",
       "      <td>308</td>\n",
       "      <td>0.0</td>\n",
       "      <td>1</td>\n",
       "      <td>45</td>\n",
       "      <td>170</td>\n",
       "      <td>0</td>\n",
       "    </tr>\n",
       "    <tr>\n",
       "      <th>1</th>\n",
       "      <td>2</td>\n",
       "      <td>normal</td>\n",
       "      <td>110</td>\n",
       "      <td>3</td>\n",
       "      <td>0</td>\n",
       "      <td>0</td>\n",
       "      <td>0</td>\n",
       "      <td>214</td>\n",
       "      <td>1.6</td>\n",
       "      <td>0</td>\n",
       "      <td>54</td>\n",
       "      <td>158</td>\n",
       "      <td>0</td>\n",
       "    </tr>\n",
       "    <tr>\n",
       "      <th>2</th>\n",
       "      <td>1</td>\n",
       "      <td>normal</td>\n",
       "      <td>125</td>\n",
       "      <td>4</td>\n",
       "      <td>3</td>\n",
       "      <td>0</td>\n",
       "      <td>2</td>\n",
       "      <td>304</td>\n",
       "      <td>0.0</td>\n",
       "      <td>1</td>\n",
       "      <td>77</td>\n",
       "      <td>162</td>\n",
       "      <td>1</td>\n",
       "    </tr>\n",
       "    <tr>\n",
       "      <th>3</th>\n",
       "      <td>1</td>\n",
       "      <td>reversible_defect</td>\n",
       "      <td>152</td>\n",
       "      <td>4</td>\n",
       "      <td>0</td>\n",
       "      <td>0</td>\n",
       "      <td>0</td>\n",
       "      <td>223</td>\n",
       "      <td>0.0</td>\n",
       "      <td>1</td>\n",
       "      <td>40</td>\n",
       "      <td>181</td>\n",
       "      <td>0</td>\n",
       "    </tr>\n",
       "    <tr>\n",
       "      <th>4</th>\n",
       "      <td>3</td>\n",
       "      <td>reversible_defect</td>\n",
       "      <td>178</td>\n",
       "      <td>1</td>\n",
       "      <td>0</td>\n",
       "      <td>0</td>\n",
       "      <td>2</td>\n",
       "      <td>270</td>\n",
       "      <td>4.2</td>\n",
       "      <td>1</td>\n",
       "      <td>59</td>\n",
       "      <td>145</td>\n",
       "      <td>0</td>\n",
       "    </tr>\n",
       "  </tbody>\n",
       "</table>\n",
       "</div>"
      ],
      "text/plain": [
       "   slope_of_peak_exercise_st_segment               thal  \\\n",
       "0                                  1             normal   \n",
       "1                                  2             normal   \n",
       "2                                  1             normal   \n",
       "3                                  1  reversible_defect   \n",
       "4                                  3  reversible_defect   \n",
       "\n",
       "   resting_blood_pressure  chest_pain_type  num_major_vessels  \\\n",
       "0                     128                2                  0   \n",
       "1                     110                3                  0   \n",
       "2                     125                4                  3   \n",
       "3                     152                4                  0   \n",
       "4                     178                1                  0   \n",
       "\n",
       "   fasting_blood_sugar_gt_120_mg_per_dl  resting_ekg_results  \\\n",
       "0                                     0                    2   \n",
       "1                                     0                    0   \n",
       "2                                     0                    2   \n",
       "3                                     0                    0   \n",
       "4                                     0                    2   \n",
       "\n",
       "   serum_cholesterol_mg_per_dl  oldpeak_eq_st_depression  sex  age  \\\n",
       "0                          308                       0.0    1   45   \n",
       "1                          214                       1.6    0   54   \n",
       "2                          304                       0.0    1   77   \n",
       "3                          223                       0.0    1   40   \n",
       "4                          270                       4.2    1   59   \n",
       "\n",
       "   max_heart_rate_achieved  exercise_induced_angina  \n",
       "0                      170                        0  \n",
       "1                      158                        0  \n",
       "2                      162                        1  \n",
       "3                      181                        0  \n",
       "4                      145                        0  "
      ]
     },
     "execution_count": 23,
     "metadata": {},
     "output_type": "execute_result"
    }
   ],
   "source": [
    "X_train.head()"
   ]
  },
  {
   "cell_type": "markdown",
   "metadata": {},
   "source": [
    "### Outliers con los datos \"raw\""
   ]
  },
  {
   "cell_type": "code",
   "execution_count": 18,
   "metadata": {},
   "outputs": [
    {
     "name": "stdout",
     "output_type": "stream",
     "text": [
      "No se pudo plotear thal\n"
     ]
    },
    {
     "data": {
      "image/png": "[encoded data removed]",
      "text/plain": [
       "<Figure size 432x288 with 2 Axes>"
      ]
     },
     "metadata": {
      "needs_background": "light"
     },
     "output_type": "display_data"
    },
    {
     "data": {
      "image/png": "[encoded data removed]",
      "text/plain": [
       "<Figure size 432x288 with 1 Axes>"
      ]
     },
     "metadata": {
      "needs_background": "light"
     },
     "output_type": "display_data"
    },
    {
     "data": {
      "image/png": "[encoded data removed]",
      "text/plain": [
       "<Figure size 432x288 with 2 Axes>"
      ]
     },
     "metadata": {
      "needs_background": "light"
     },
     "output_type": "display_data"
    },
    {
     "data": {
      "image/png": "[encoded data removed]",
      "text/plain": [
       "<Figure size 432x288 with 2 Axes>"
      ]
     },
     "metadata": {
      "needs_background": "light"
     },
     "output_type": "display_data"
    },
    {
     "data": {
      "image/png": "[encoded data removed]",
      "text/plain": [
       "<Figure size 432x288 with 2 Axes>"
      ]
     },
     "metadata": {
      "needs_background": "light"
     },
     "output_type": "display_data"
    },
    {
     "data": {
      "image/png": "[encoded data removed]",
      "text/plain": [
       "<Figure size 432x288 with 2 Axes>"
      ]
     },
     "metadata": {
      "needs_background": "light"
     },
     "output_type": "display_data"
    },
    {
     "data": {
      "image/png": "[encoded data removed]",
      "text/plain": [
       "<Figure size 432x288 with 2 Axes>"
      ]
     },
     "metadata": {
      "needs_background": "light"
     },
     "output_type": "display_data"
    },
    {
     "data": {
      "image/png": "[encoded data removed]",
      "text/plain": [
       "<Figure size 432x288 with 2 Axes>"
      ]
     },
     "metadata": {
      "needs_background": "light"
     },
     "output_type": "display_data"
    },
    {
     "data": {
      "image/png": "[encoded data removed]",
      "text/plain": [
       "<Figure size 432x288 with 2 Axes>"
      ]
     },
     "metadata": {
      "needs_background": "light"
     },
     "output_type": "display_data"
    },
    {
     "data": {
      "image/png": "[encoded data removed]",
      "text/plain": [
       "<Figure size 432x288 with 2 Axes>"
      ]
     },
     "metadata": {
      "needs_background": "light"
     },
     "output_type": "display_data"
    },
    {
     "data": {
      "image/png": "[encoded data removed]",
      "text/plain": [
       "<Figure size 432x288 with 2 Axes>"
      ]
     },
     "metadata": {
      "needs_background": "light"
     },
     "output_type": "display_data"
    },
    {
     "data": {
      "image/png": "[encoded data removed]",
      "text/plain": [
       "<Figure size 432x288 with 2 Axes>"
      ]
     },
     "metadata": {
      "needs_background": "light"
     },
     "output_type": "display_data"
    },
    {
     "data": {
      "image/png": "[encoded data removed]",
      "text/plain": [
       "<Figure size 432x288 with 2 Axes>"
      ]
     },
     "metadata": {
      "needs_background": "light"
     },
     "output_type": "display_data"
    }
   ],
   "source": [
    "for c in X_train.columns:\n",
    "    try:\n",
    "        plt.figure()\n",
    "        plt.subplot(2, 1, 1)\n",
    "        sns.boxplot(x=X_train[c])\n",
    "        plt.title('TRAIN')\n",
    "        plt.subplot(2, 1, 2)\n",
    "        plt.title('TEST')\n",
    "        sns.boxplot(x=X_test[c])\n",
    "#         plt.close()\n",
    "    except:\n",
    "        print('No se pudo plotear {}'.format(c))"
   ]
  },
  {
   "cell_type": "code",
   "execution_count": 28,
   "metadata": {},
   "outputs": [
    {
     "name": "stdout",
     "output_type": "stream",
     "text": [
      "[0.19519463 1.25631978 0.37204882 1.21963891 2.75237524 0.07729183\n",
      " 1.10173612 1.10173612 2.28076406 0.66680581 0.66680581 0.51222214\n",
      " 0.51222214 0.39431935 0.66680581 0.74802773 0.07729183 0.07729183\n",
      " 0.07729183 0.27641655 1.69125009 1.37422257 1.49212537 1.69125009\n",
      " 1.4554445  0.66680581 0.19519463 0.19519463 0.51222214 1.25631978\n",
      " 0.07729183 1.10173612 0.51222214 2.87027804 1.13841698 0.54890301\n",
      " 1.10173612 0.43100022 0.66680581 0.19519463 1.10173612 0.21746515\n",
      " 1.25631978 0.51222214 1.37422257 0.43100022 0.37204882 1.13841698\n",
      " 0.66680581 1.55107677 0.51222214 0.07729183 0.07729183 0.07729183\n",
      " 0.07729183 0.07729183 1.25631978 0.66680581 0.66680581 1.25631978\n",
      " 0.96156279 0.07729183 0.07729183 1.13841698 1.25631978 0.31309742\n",
      " 0.07729183 0.96156279 0.21746515 0.66680581 0.66680581 1.13841698\n",
      " 2.39866686 0.66680581 0.31309742 2.75237524 0.27641655 0.43100022\n",
      " 0.80697913 0.07729183 0.07729183 0.66680581 1.25631978 0.19519463\n",
      " 0.07729183 0.7847086  1.13841698 0.51222214 1.10173612 0.07729183\n",
      " 0.15851376 1.84583375 0.21746515 0.51222214 1.37422257 0.7847086\n",
      " 0.80697913 1.69125009 1.3964931  1.10173612 0.51222214 0.51222214\n",
      " 1.25631978 0.51222214 0.51222214 0.07729183 1.10173612 1.69125009\n",
      " 0.37204882 0.43100022 0.19519463 0.66680581 0.51222214 2.87027804\n",
      " 1.13841698 0.51222214 0.21746515 1.25631978 0.04061096 0.39431935\n",
      " 0.39431935 0.7847086  0.51222214 0.07729183 1.69125009 1.69125009\n",
      " 1.72793096 0.66680581 0.80697913 0.66680581 2.19954214 1.84583375\n",
      " 0.07729183 0.04061096 0.37204882 0.66680581 0.07729183 1.10173612\n",
      " 0.51222214 0.07729183 0.51222214 0.66680581 0.66680581 1.25631978\n",
      " 0.19519463 0.51222214 0.51222214 0.15851376 1.37422257 0.19519463\n",
      " 1.37422257 0.37204882 0.66680581 1.13841698 0.07729183 1.69125009\n",
      " 0.51222214 0.07729183 0.66680581 0.07729183 0.07729183 0.84366\n",
      " 1.69125009 0.63012494 0.63012494 1.21963891 0.04061096 0.66680581\n",
      " 0.80697913 1.25631978 1.10173612 1.13841698 0.7847086  0.51222214\n",
      " 0.51222214 0.37204882 2.87027804 0.37204882 0.43100022 1.69125009]\n"
     ]
    }
   ],
   "source": [
    "z = np.abs(stats.zscore(X_train['resting_blood_pressure']))\n",
    "print(z)"
   ]
  },
  {
   "cell_type": "code",
   "execution_count": 42,
   "metadata": {},
   "outputs": [],
   "source": [
    "def detect_outlier(data_1, threshold):\n",
    "    outliers=[]\n",
    "    mean_1 = np.mean(data_1)\n",
    "    std_1 =np.std(data_1)\n",
    "    \n",
    "    \n",
    "    for y in data_1:\n",
    "        z_score= (y - mean_1)/std_1 \n",
    "        if np.abs(z_score) > threshold:\n",
    "            outliers.append(y)\n",
    "    return outliers"
   ]
  },
  {
   "cell_type": "code",
   "execution_count": 52,
   "metadata": {},
   "outputs": [
    {
     "name": "stdout",
     "output_type": "stream",
     "text": [
      "118.0 142.0\n"
     ]
    }
   ],
   "source": [
    "q1, q3= np.percentile(X_train['resting_blood_pressure'],[20,80])\n",
    "print(q1, q3)"
   ]
  },
  {
   "cell_type": "code",
   "execution_count": 75,
   "metadata": {},
   "outputs": [
    {
     "data": {
      "text/plain": [
       "3"
      ]
     },
     "execution_count": 75,
     "metadata": {},
     "output_type": "execute_result"
    }
   ],
   "source": [
    "len(X_train['slope_of_peak_exercise_st_segment'].unique())"
   ]
  },
  {
   "cell_type": "code",
   "execution_count": 80,
   "metadata": {},
   "outputs": [
    {
     "data": {
      "text/plain": [
       "0"
      ]
     },
     "execution_count": 80,
     "metadata": {},
     "output_type": "execute_result"
    }
   ],
   "source": [
    "X_train['slope_of_peak_exercise_st_segment'].isna().sum()"
   ]
  },
  {
   "cell_type": "code",
   "execution_count": 71,
   "metadata": {
    "scrolled": true
   },
   "outputs": [
    {
     "name": "stdout",
     "output_type": "stream",
     "text": [
      "Outliers de la columna SLOPE_OF_PEAK_EXERCISE_ST_SEGMENT\n",
      "Para el TRAIN:\n",
      "[]\n",
      "Media: 1.55 Std: 0.6188383422629441 \n",
      "\n",
      "Para el TEST:\n",
      "[]\n",
      "Media: 1.6555555555555554 Std: 0.6026367365210522 \n",
      "\n",
      "Outliers de la columna RESTING_BLOOD_PRESSURE\n",
      "Para el TRAIN:\n",
      "[178, 180, 178, 180, 180]\n",
      "Media: 131.3111111111111 Std: 17.010443354483062 \n",
      "\n",
      "Para el TEST:\n",
      "[200, 192]\n",
      "Media: 131.4111111111111 Std: 19.552806312819058 \n",
      "\n",
      "Outliers de la columna CHEST_PAIN_TYPE\n",
      "Para el TRAIN:\n",
      "[]\n",
      "Media: 3.1555555555555554 Std: 0.9384536325040383 \n",
      "\n",
      "Para el TEST:\n",
      "[]\n",
      "Media: 3.2111111111111112 Std: 0.9772058820075799 \n",
      "\n",
      "Outliers de la columna NUM_MAJOR_VESSELS\n",
      "Para el TRAIN:\n",
      "[]\n",
      "Media: 0.6944444444444444 Std: 0.9693470832710326 \n",
      "\n",
      "Para el TEST:\n",
      "[3, 3, 3, 3, 3]\n",
      "Media: 0.6222222222222222 Std: 0.894147987874337 \n",
      "\n",
      "Outliers de la columna FASTING_BLOOD_SUGAR_GT_120_MG_PER_DL\n",
      "Para el TRAIN:\n",
      "[]\n",
      "Media: 0.16111111111111112 Std: 0.36865888441784644 \n",
      "\n",
      "Para el TEST:\n",
      "[1, 1, 1, 1, 1, 1, 1, 1, 1, 1, 1]\n",
      "Media: 0.12222222222222222 Std: 0.3293772734489573 \n",
      "\n",
      "Outliers de la columna RESTING_EKG_RESULTS\n",
      "Para el TRAIN:\n",
      "[]\n",
      "Media: 1.05 Std: 0.9987422257617594 \n",
      "\n",
      "Para el TEST:\n",
      "[]\n",
      "Media: 0.9666666666666667 Std: 0.9994380443501147 \n",
      "\n",
      "Outliers de la columna SERUM_CHOLESTEROL_MG_PER_DL\n",
      "Para el TRAIN:\n",
      "[417, 564]\n",
      "Media: 249.2111111111111 Std: 52.71796879049312 \n",
      "\n",
      "Para el TEST:\n",
      "[407, 409, 394]\n",
      "Media: 250.55555555555554 Std: 49.83593557270689 \n",
      "\n",
      "Outliers de la columna OLDPEAK_EQ_ST_DEPRESSION\n",
      "Para el TRAIN:\n",
      "[4.2, 4.2, 5.6, 6.2]\n",
      "Media: 1.01 Std: 1.1213569194427448 \n",
      "\n",
      "Para el TEST:\n",
      "[]\n",
      "Media: 1.1300000000000001 Std: 1.193846582656812 \n",
      "\n",
      "Outliers de la columna SEX\n",
      "Para el TRAIN:\n",
      "[]\n",
      "Media: 0.6888888888888889 Std: 0.46423949811244747 \n",
      "\n",
      "Para el TEST:\n",
      "[]\n",
      "Media: 0.6555555555555556 Std: 0.4778489044986781 \n",
      "\n",
      "Outliers de la columna AGE\n",
      "Para el TRAIN:\n",
      "[29]\n",
      "Media: 54.81111111111111 Std: 9.334736526603463 \n",
      "\n",
      "Para el TEST:\n",
      "[76]\n",
      "Media: 53.67777777777778 Std: 8.641197089586237 \n",
      "\n",
      "Outliers de la columna MAX_HEART_RATE_ACHIEVED\n",
      "Para el TRAIN:\n",
      "[]\n",
      "Media: 149.48333333333332 Std: 22.063512942230105 \n",
      "\n",
      "Para el TEST:\n",
      "[71]\n",
      "Media: 150.06666666666666 Std: 25.35181663592519 \n",
      "\n",
      "Outliers de la columna EXERCISE_INDUCED_ANGINA\n",
      "Para el TRAIN:\n",
      "[]\n",
      "Media: 0.31666666666666665 Std: 0.46647375634983845 \n",
      "\n",
      "Para el TEST:\n",
      "[]\n",
      "Media: 0.35555555555555557 Std: 0.48136302521843183 \n",
      "\n"
     ]
    }
   ],
   "source": [
    "num_cols = [c for c in X_train.columns if c != 'thal']\n",
    "\n",
    "for c in num_cols:\n",
    "    \n",
    "    print('Outliers de la columna {}'.format(c.upper()))\n",
    "    print('Para el TRAIN:')\n",
    "    out_liers = detect_outlier(X_train[c], threshold=2.5)\n",
    "    print(out_liers)\n",
    "    print('Media:', X_train[c].mean(),\n",
    "          'Std:', X_train[c].std(), '\\n')\n",
    "    \n",
    "    print('Para el TEST:')\n",
    "    out_liers = detect_outlier(X_test[c], threshold=2.5)\n",
    "    print(out_liers)\n",
    "    print('Media:', X_test[c].mean(),\n",
    "          'Std:', X_test[c].std(), '\\n')"
   ]
  },
  {
   "cell_type": "code",
   "execution_count": null,
   "metadata": {},
   "outputs": [],
   "source": []
  },
  {
   "cell_type": "markdown",
   "metadata": {},
   "source": [
    "### Outliers con los datos \"raw\""
   ]
  },
  {
   "cell_type": "code",
   "execution_count": 55,
   "metadata": {},
   "outputs": [],
   "source": [
    "train_ss = pd.read_csv('../data/Processed/train_2.csv')\n",
    "X_train_ss = train.loc[:,[c for c in train.columns if c != 'patient_id']]\n",
    "test_ss = pd.read_csv('../data/Processed/test_2.csv')\n",
    "X_test_ss = test.loc[:,[c for c in test.columns if c != 'patient_id']]"
   ]
  },
  {
   "cell_type": "code",
   "execution_count": 57,
   "metadata": {},
   "outputs": [
    {
     "data": {
      "text/html": [
       "<div>\n",
       "<style scoped>\n",
       "    .dataframe tbody tr th:only-of-type {\n",
       "        vertical-align: middle;\n",
       "    }\n",
       "\n",
       "    .dataframe tbody tr th {\n",
       "        vertical-align: top;\n",
       "    }\n",
       "\n",
       "    .dataframe thead th {\n",
       "        text-align: right;\n",
       "    }\n",
       "</style>\n",
       "<table border=\"1\" class=\"dataframe\">\n",
       "  <thead>\n",
       "    <tr style=\"text-align: right;\">\n",
       "      <th></th>\n",
       "      <th>slope_of_peak_exercise_st_segment</th>\n",
       "      <th>thal</th>\n",
       "      <th>resting_blood_pressure</th>\n",
       "      <th>chest_pain_type</th>\n",
       "      <th>num_major_vessels</th>\n",
       "      <th>fasting_blood_sugar_gt_120_mg_per_dl</th>\n",
       "      <th>resting_ekg_results</th>\n",
       "      <th>serum_cholesterol_mg_per_dl</th>\n",
       "      <th>oldpeak_eq_st_depression</th>\n",
       "      <th>sex</th>\n",
       "      <th>age</th>\n",
       "      <th>max_heart_rate_achieved</th>\n",
       "      <th>exercise_induced_angina</th>\n",
       "    </tr>\n",
       "  </thead>\n",
       "  <tbody>\n",
       "    <tr>\n",
       "      <th>0</th>\n",
       "      <td>1</td>\n",
       "      <td>normal</td>\n",
       "      <td>128</td>\n",
       "      <td>2</td>\n",
       "      <td>0</td>\n",
       "      <td>0</td>\n",
       "      <td>2</td>\n",
       "      <td>308</td>\n",
       "      <td>0.0</td>\n",
       "      <td>1</td>\n",
       "      <td>45</td>\n",
       "      <td>170</td>\n",
       "      <td>0</td>\n",
       "    </tr>\n",
       "    <tr>\n",
       "      <th>1</th>\n",
       "      <td>2</td>\n",
       "      <td>normal</td>\n",
       "      <td>110</td>\n",
       "      <td>3</td>\n",
       "      <td>0</td>\n",
       "      <td>0</td>\n",
       "      <td>0</td>\n",
       "      <td>214</td>\n",
       "      <td>1.6</td>\n",
       "      <td>0</td>\n",
       "      <td>54</td>\n",
       "      <td>158</td>\n",
       "      <td>0</td>\n",
       "    </tr>\n",
       "    <tr>\n",
       "      <th>2</th>\n",
       "      <td>1</td>\n",
       "      <td>normal</td>\n",
       "      <td>125</td>\n",
       "      <td>4</td>\n",
       "      <td>3</td>\n",
       "      <td>0</td>\n",
       "      <td>2</td>\n",
       "      <td>304</td>\n",
       "      <td>0.0</td>\n",
       "      <td>1</td>\n",
       "      <td>77</td>\n",
       "      <td>162</td>\n",
       "      <td>1</td>\n",
       "    </tr>\n",
       "    <tr>\n",
       "      <th>3</th>\n",
       "      <td>1</td>\n",
       "      <td>reversible_defect</td>\n",
       "      <td>152</td>\n",
       "      <td>4</td>\n",
       "      <td>0</td>\n",
       "      <td>0</td>\n",
       "      <td>0</td>\n",
       "      <td>223</td>\n",
       "      <td>0.0</td>\n",
       "      <td>1</td>\n",
       "      <td>40</td>\n",
       "      <td>181</td>\n",
       "      <td>0</td>\n",
       "    </tr>\n",
       "    <tr>\n",
       "      <th>4</th>\n",
       "      <td>3</td>\n",
       "      <td>reversible_defect</td>\n",
       "      <td>178</td>\n",
       "      <td>1</td>\n",
       "      <td>0</td>\n",
       "      <td>0</td>\n",
       "      <td>2</td>\n",
       "      <td>270</td>\n",
       "      <td>4.2</td>\n",
       "      <td>1</td>\n",
       "      <td>59</td>\n",
       "      <td>145</td>\n",
       "      <td>0</td>\n",
       "    </tr>\n",
       "  </tbody>\n",
       "</table>\n",
       "</div>"
      ],
      "text/plain": [
       "   slope_of_peak_exercise_st_segment               thal  \\\n",
       "0                                  1             normal   \n",
       "1                                  2             normal   \n",
       "2                                  1             normal   \n",
       "3                                  1  reversible_defect   \n",
       "4                                  3  reversible_defect   \n",
       "\n",
       "   resting_blood_pressure  chest_pain_type  num_major_vessels  \\\n",
       "0                     128                2                  0   \n",
       "1                     110                3                  0   \n",
       "2                     125                4                  3   \n",
       "3                     152                4                  0   \n",
       "4                     178                1                  0   \n",
       "\n",
       "   fasting_blood_sugar_gt_120_mg_per_dl  resting_ekg_results  \\\n",
       "0                                     0                    2   \n",
       "1                                     0                    0   \n",
       "2                                     0                    2   \n",
       "3                                     0                    0   \n",
       "4                                     0                    2   \n",
       "\n",
       "   serum_cholesterol_mg_per_dl  oldpeak_eq_st_depression  sex  age  \\\n",
       "0                          308                       0.0    1   45   \n",
       "1                          214                       1.6    0   54   \n",
       "2                          304                       0.0    1   77   \n",
       "3                          223                       0.0    1   40   \n",
       "4                          270                       4.2    1   59   \n",
       "\n",
       "   max_heart_rate_achieved  exercise_induced_angina  \n",
       "0                      170                        0  \n",
       "1                      158                        0  \n",
       "2                      162                        1  \n",
       "3                      181                        0  \n",
       "4                      145                        0  "
      ]
     },
     "execution_count": 57,
     "metadata": {},
     "output_type": "execute_result"
    }
   ],
   "source": [
    "X_train_ss.head()"
   ]
  },
  {
   "cell_type": "code",
   "execution_count": 62,
   "metadata": {},
   "outputs": [
    {
     "name": "stdout",
     "output_type": "stream",
     "text": [
      "0    54\n",
      "1    21\n",
      "2    10\n",
      "3     5\n",
      "Name: num_major_vessels, dtype: int64 \n",
      " 0    106\n",
      "1     37\n",
      "2     23\n",
      "3     14\n",
      "Name: num_major_vessels, dtype: int64\n"
     ]
    }
   ],
   "source": [
    "print(X_test_ss['num_major_vessels'].value_counts(),'\\n',\n",
    "      X_train_ss['num_major_vessels'].value_counts())"
   ]
  },
  {
   "cell_type": "code",
   "execution_count": 72,
   "metadata": {
    "scrolled": true
   },
   "outputs": [
    {
     "name": "stdout",
     "output_type": "stream",
     "text": [
      "Outliers de la columna SLOPE_OF_PEAK_EXERCISE_ST_SEGMENT\n",
      "Para el TRAIN:\n",
      "[]\n",
      "Media: 1.55 Std: 0.6188383422629441 \n",
      "\n",
      "Para el TEST:\n",
      "[]\n",
      "Media: 1.6555555555555554 Std: 0.6026367365210522 \n",
      "\n",
      "Outliers de la columna RESTING_BLOOD_PRESSURE\n",
      "Para el TRAIN:\n",
      "[178, 180, 178, 180, 180]\n",
      "Media: 131.3111111111111 Std: 17.010443354483062 \n",
      "\n",
      "Para el TEST:\n",
      "[200, 192]\n",
      "Media: 131.4111111111111 Std: 19.552806312819058 \n",
      "\n",
      "Outliers de la columna CHEST_PAIN_TYPE\n",
      "Para el TRAIN:\n",
      "[]\n",
      "Media: 3.1555555555555554 Std: 0.9384536325040383 \n",
      "\n",
      "Para el TEST:\n",
      "[]\n",
      "Media: 3.2111111111111112 Std: 0.9772058820075799 \n",
      "\n",
      "Outliers de la columna NUM_MAJOR_VESSELS\n",
      "Para el TRAIN:\n",
      "[]\n",
      "Media: 0.6944444444444444 Std: 0.9693470832710326 \n",
      "\n",
      "Para el TEST:\n",
      "[3, 3, 3, 3, 3]\n",
      "Media: 0.6222222222222222 Std: 0.894147987874337 \n",
      "\n",
      "Outliers de la columna FASTING_BLOOD_SUGAR_GT_120_MG_PER_DL\n",
      "Para el TRAIN:\n",
      "[]\n",
      "Media: 0.16111111111111112 Std: 0.36865888441784644 \n",
      "\n",
      "Para el TEST:\n",
      "[1, 1, 1, 1, 1, 1, 1, 1, 1, 1, 1]\n",
      "Media: 0.12222222222222222 Std: 0.3293772734489573 \n",
      "\n",
      "Outliers de la columna RESTING_EKG_RESULTS\n",
      "Para el TRAIN:\n",
      "[]\n",
      "Media: 1.05 Std: 0.9987422257617594 \n",
      "\n",
      "Para el TEST:\n",
      "[]\n",
      "Media: 0.9666666666666667 Std: 0.9994380443501147 \n",
      "\n",
      "Outliers de la columna SERUM_CHOLESTEROL_MG_PER_DL\n",
      "Para el TRAIN:\n",
      "[417, 564]\n",
      "Media: 249.2111111111111 Std: 52.71796879049312 \n",
      "\n",
      "Para el TEST:\n",
      "[407, 409, 394]\n",
      "Media: 250.55555555555554 Std: 49.83593557270689 \n",
      "\n",
      "Outliers de la columna OLDPEAK_EQ_ST_DEPRESSION\n",
      "Para el TRAIN:\n",
      "[4.2, 4.2, 5.6, 6.2]\n",
      "Media: 1.01 Std: 1.1213569194427448 \n",
      "\n",
      "Para el TEST:\n",
      "[]\n",
      "Media: 1.1300000000000001 Std: 1.193846582656812 \n",
      "\n",
      "Outliers de la columna SEX\n",
      "Para el TRAIN:\n",
      "[]\n",
      "Media: 0.6888888888888889 Std: 0.46423949811244747 \n",
      "\n",
      "Para el TEST:\n",
      "[]\n",
      "Media: 0.6555555555555556 Std: 0.4778489044986781 \n",
      "\n",
      "Outliers de la columna AGE\n",
      "Para el TRAIN:\n",
      "[29]\n",
      "Media: 54.81111111111111 Std: 9.334736526603463 \n",
      "\n",
      "Para el TEST:\n",
      "[76]\n",
      "Media: 53.67777777777778 Std: 8.641197089586237 \n",
      "\n",
      "Outliers de la columna MAX_HEART_RATE_ACHIEVED\n",
      "Para el TRAIN:\n",
      "[]\n",
      "Media: 149.48333333333332 Std: 22.063512942230105 \n",
      "\n",
      "Para el TEST:\n",
      "[71]\n",
      "Media: 150.06666666666666 Std: 25.35181663592519 \n",
      "\n",
      "Outliers de la columna EXERCISE_INDUCED_ANGINA\n",
      "Para el TRAIN:\n",
      "[]\n",
      "Media: 0.31666666666666665 Std: 0.46647375634983845 \n",
      "\n",
      "Para el TEST:\n",
      "[]\n",
      "Media: 0.35555555555555557 Std: 0.48136302521843183 \n",
      "\n"
     ]
    }
   ],
   "source": [
    "num_cols = [c for c in X_train.columns if c != 'thal']\n",
    "\n",
    "for c in num_cols:\n",
    "    \n",
    "    print('Outliers de la columna {}'.format(c.upper()))\n",
    "    print('Para el TRAIN:')\n",
    "    out_liers = detect_outlier(X_train_ss[c], threshold=2.5)\n",
    "    print(out_liers)\n",
    "    print('Media:', X_train_ss[c].mean(),\n",
    "          'Std:', X_train_ss[c].std(), '\\n')\n",
    "    \n",
    "    print('Para el TEST:')\n",
    "    out_liers = detect_outlier(X_test_ss[c], threshold=2.5)\n",
    "    print(out_liers)\n",
    "    print('Media:', X_test_ss[c].mean(),\n",
    "          'Std:', X_test_ss[c].std(), '\\n')"
   ]
  },
  {
   "cell_type": "code",
   "execution_count": 65,
   "metadata": {},
   "outputs": [
    {
     "ename": "ValueError",
     "evalue": "Can only compare identically-labeled Series objects",
     "output_type": "error",
     "traceback": [
      "\u001b[0;31m---------------------------------------------------------------------------\u001b[0m",
      "\u001b[0;31mValueError\u001b[0m                                Traceback (most recent call last)",
      "\u001b[0;32m<ipython-input-65-6655af6b0fe2>\u001b[0m in \u001b[0;36m<module>\u001b[0;34m\u001b[0m\n\u001b[0;32m----> 1\u001b[0;31m \u001b[0mdifference_locations\u001b[0m \u001b[0;34m=\u001b[0m \u001b[0mnp\u001b[0m\u001b[0;34m.\u001b[0m\u001b[0mwhere\u001b[0m\u001b[0;34m(\u001b[0m\u001b[0mtrain\u001b[0m\u001b[0;34m[\u001b[0m\u001b[0;34m'slope_of_peak_exercise_st_segment'\u001b[0m\u001b[0;34m]\u001b[0m \u001b[0;34m!=\u001b[0m \u001b[0mtest\u001b[0m\u001b[0;34m[\u001b[0m\u001b[0;34m'slope_of_peak_exercise_st_segment'\u001b[0m\u001b[0;34m]\u001b[0m\u001b[0;34m)\u001b[0m\u001b[0;34m\u001b[0m\u001b[0;34m\u001b[0m\u001b[0m\n\u001b[0m",
      "\u001b[0;32m~/.local/lib/python3.6/site-packages/pandas/core/ops.py\u001b[0m in \u001b[0;36mwrapper\u001b[0;34m(self, other, axis)\u001b[0m\n\u001b[1;32m   1674\u001b[0m \u001b[0;34m\u001b[0m\u001b[0m\n\u001b[1;32m   1675\u001b[0m         \u001b[0;32melif\u001b[0m \u001b[0misinstance\u001b[0m\u001b[0;34m(\u001b[0m\u001b[0mother\u001b[0m\u001b[0;34m,\u001b[0m \u001b[0mABCSeries\u001b[0m\u001b[0;34m)\u001b[0m \u001b[0;32mand\u001b[0m \u001b[0;32mnot\u001b[0m \u001b[0mself\u001b[0m\u001b[0;34m.\u001b[0m\u001b[0m_indexed_same\u001b[0m\u001b[0;34m(\u001b[0m\u001b[0mother\u001b[0m\u001b[0;34m)\u001b[0m\u001b[0;34m:\u001b[0m\u001b[0;34m\u001b[0m\u001b[0;34m\u001b[0m\u001b[0m\n\u001b[0;32m-> 1676\u001b[0;31m             raise ValueError(\"Can only compare identically-labeled \"\n\u001b[0m\u001b[1;32m   1677\u001b[0m                              \"Series objects\")\n\u001b[1;32m   1678\u001b[0m \u001b[0;34m\u001b[0m\u001b[0m\n",
      "\u001b[0;31mValueError\u001b[0m: Can only compare identically-labeled Series objects"
     ]
    }
   ],
   "source": [
    "difference_locations = np.where(train['slope_of_peak_exercise_st_segment'] != test['slope_of_peak_exercise_st_segment'])"
   ]
  },
  {
   "cell_type": "code",
   "execution_count": null,
   "metadata": {},
   "outputs": [],
   "source": []
  }
 ],
 "metadata": {
  "kernelspec": {
   "display_name": "Python 3",
   "language": "python",
   "name": "python3"
  },
  "language_info": {
   "codemirror_mode": {
    "name": "ipython",
    "version": 3
   },
   "file_extension": ".py",
   "mimetype": "text/x-python",
   "name": "python",
   "nbconvert_exporter": "python",
   "pygments_lexer": "ipython3",
   "version": "3.6.7"
  }
 },
 "nbformat": 4,
 "nbformat_minor": 2
}
