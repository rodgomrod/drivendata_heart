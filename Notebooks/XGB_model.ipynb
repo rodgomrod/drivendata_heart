{
 "cells": [
  {
   "cell_type": "code",
   "execution_count": 1,
   "metadata": {},
   "outputs": [],
   "source": [
    "import pandas as pd\n",
    "import numpy as np\n",
    "import glob\n",
    "from sklearn.model_selection import StratifiedKFold, RandomizedSearchCV\n",
    "from sklearn.externals import joblib\n",
    "import xgboost as xgb\n",
    "from xgboost import plot_importance, plot_tree\n",
    "import gc\n",
    "import seaborn as sns\n",
    "import matplotlib.pyplot as plt\n",
    "import sys\n",
    "\n",
    "import warnings\n",
    "warnings.filterwarnings(\"ignore\")"
   ]
  },
  {
   "cell_type": "code",
   "execution_count": 2,
   "metadata": {},
   "outputs": [],
   "source": [
    "train = pd.read_csv('../data/Processed/train.csv')\n",
    "X_train = train.loc[:,[c for c in train.columns if c != 'patient_id']]\n",
    "y_train = pd.read_csv('../data/raw/train_labels.csv', usecols=['heart_disease_present'])\n",
    "test = pd.read_csv('../data/Processed/test.csv')\n",
    "X_test = test.loc[:,[c for c in test.columns if c != 'patient_id']]"
   ]
  },
  {
   "cell_type": "code",
   "execution_count": 5,
   "metadata": {},
   "outputs": [],
   "source": [
    "params = {'max_depth': [5],\n",
    "          'metric': ['binary_logloss'],\n",
    "          'n_estimators': [500],\n",
    "          'eta': np.arange(0.01, 0.1, 0.01),\n",
    "          'colsample_bytree':np.arange(0.1, 1.1, 0.1),\n",
    "          'n_jobs': [1],\n",
    "          'seed': [42],\n",
    "          'gamma': np.arange(0, 0.9, 0.1),\n",
    "          'max_bin': np.arange(2, 128, 2),\n",
    "          'objective': ['binary:logistic'],\n",
    "          'gamma':np.arange(0, 10, 0.1),\n",
    "          'alpha':np.arange(0, 1.1, 0.1),\n",
    "          'lambda':np.arange(0,1.1, 0.1),\n",
    "          'max_delta_step':np.arange(0, 11, 1)\n",
    "         }\n",
    "\n",
    "xgb_model = xgb.XGBClassifier()\n",
    "\n",
    "rscv = RandomizedSearchCV(xgb_model,\n",
    "                          params,\n",
    "                          verbose=1,\n",
    "                          random_state=42,\n",
    "                          scoring='roc_auc',\n",
    "                          n_iter=60,\n",
    "                          cv = 5,\n",
    "                          n_jobs=-1)"
   ]
  },
  {
   "cell_type": "code",
   "execution_count": 6,
   "metadata": {},
   "outputs": [
    {
     "name": "stdout",
     "output_type": "stream",
     "text": [
      "Fitting 5 folds for each of 60 candidates, totalling 300 fits\n"
     ]
    },
    {
     "name": "stderr",
     "output_type": "stream",
     "text": [
      "[Parallel(n_jobs=-1)]: Using backend LokyBackend with 8 concurrent workers.\n",
      "[Parallel(n_jobs=-1)]: Done  34 tasks      | elapsed:    1.8s\n",
      "[Parallel(n_jobs=-1)]: Done 300 out of 300 | elapsed:    5.6s finished\n"
     ]
    },
    {
     "data": {
      "text/plain": [
       "RandomizedSearchCV(cv=5, error_score='raise-deprecating',\n",
       "          estimator=XGBClassifier(base_score=0.5, booster='gbtree', colsample_bylevel=1,\n",
       "       colsample_bytree=1, gamma=0, learning_rate=0.1, max_delta_step=0,\n",
       "       max_depth=3, min_child_weight=1, missing=None, n_estimators=100,\n",
       "       n_jobs=1, nthread=None, objective='binary:logistic', random_state=0,\n",
       "       reg_alpha=0, reg_lambda=1, scale_pos_weight=1, seed=None,\n",
       "       silent=True, subsample=1),\n",
       "          fit_params=None, iid='warn', n_iter=60, n_jobs=-1,\n",
       "          param_distributions={'max_depth': [5], 'metric': ['binary_logloss'], 'n_estimators': [500], 'eta': array([0.01, 0.02, 0.03, 0.04, 0.05, 0.06, 0.07, 0.08, 0.09]), 'colsample_bytree': array([0.1, 0.2, 0.3, 0.4, 0.5, 0.6, 0.7, 0.8, 0.9, 1. ]), 'n_jobs': [1], 'seed': [42], 'gamma': array([0. , 0.1, ...,...5, 0.6, 0.7, 0.8, 0.9, 1. ]), 'max_delta_step': array([ 0,  1,  2,  3,  4,  5,  6,  7,  8,  9, 10])},\n",
       "          pre_dispatch='2*n_jobs', random_state=42, refit=True,\n",
       "          return_train_score='warn', scoring='roc_auc', verbose=1)"
      ]
     },
     "execution_count": 6,
     "metadata": {},
     "output_type": "execute_result"
    }
   ],
   "source": [
    "rscv.fit(X_train, y_train)"
   ]
  },
  {
   "cell_type": "code",
   "execution_count": 7,
   "metadata": {},
   "outputs": [
    {
     "name": "stdout",
     "output_type": "stream",
     "text": [
      "{'seed': 42, 'objective': 'binary:logistic', 'n_jobs': 1, 'n_estimators': 500, 'metric': 'binary_logloss', 'max_depth': 5, 'max_delta_step': 9, 'max_bin': 56, 'lambda': 0.4, 'gamma': 2.0, 'eta': 0.01, 'colsample_bytree': 0.1, 'alpha': 0.7000000000000001} \n",
      "\n",
      "0.9056249999999999\n"
     ]
    }
   ],
   "source": [
    "print(rscv.best_params_,'\\n')\n",
    "print(rscv.best_score_)"
   ]
  },
  {
   "cell_type": "code",
   "execution_count": 8,
   "metadata": {},
   "outputs": [],
   "source": [
    "model_name = 'xgb_2'\n",
    "\n",
    "# params = {'max_depth':5,\n",
    "#           'metric':'binary_logloss',\n",
    "#           'n_estimators':5000,\n",
    "#           'eta':0.4,\n",
    "#           'colsample_bytree':1,\n",
    "#           'n_jobs':1,\n",
    "#           'seed':42,\n",
    "#           'gamma': 0.1,\n",
    "#           'max_bin':256,\n",
    "#           'objective': 'binary:logistic'\n",
    "#          }\n",
    "\n",
    "params = rscv.best_params_\n",
    "xgb_model = xgb.XGBClassifier(**params)\n",
    "\n",
    "train_ids = X_train.index\n",
    "skf = StratifiedKFold(n_splits=5, shuffle=True, random_state=42)"
   ]
  },
  {
   "cell_type": "code",
   "execution_count": 9,
   "metadata": {},
   "outputs": [],
   "source": [
    "train_ids = X_train.index\n",
    "k1 = 5\n",
    "k2 = 5\n",
    "skf1 = StratifiedKFold(n_splits=k1, shuffle=True, random_state=42)\n",
    "skf2 = StratifiedKFold(n_splits=k2, shuffle=True, random_state=42)"
   ]
  },
  {
   "cell_type": "code",
   "execution_count": 14,
   "metadata": {},
   "outputs": [
    {
     "name": "stdout",
     "output_type": "stream",
     "text": [
      "Fold k1 1\n",
      "\n",
      "Fold k1 2\n",
      "\n",
      "Fold k1 3\n",
      "\n",
      "Fold k1 4\n",
      "\n",
      "Fold k1 5\n",
      "\n",
      "\n",
      "\n",
      "BEST SCORE MEAN: 0.43291908\n"
     ]
    }
   ],
   "source": [
    "counter1 = 1\n",
    "y_preds = np.zeros(X_test.shape[0])\n",
    "be = 0\n",
    "stack = pd.DataFrame()\n",
    "stack2 = pd.DataFrame()\n",
    "for train_index, test_index in skf1.split(train_ids, y_train):\n",
    "    counter2 = 1\n",
    "    print('Fold k1 {}\\n'.format(counter1))\n",
    "\n",
    "    X_fit, X_val = X_train.iloc[train_index, :], X_train.iloc[test_index, :]\n",
    "    y_fit, y_val = y_train.iloc[train_index], y_train.iloc[test_index]\n",
    "    \n",
    "    X_fit_ids = X_fit.index\n",
    "    \n",
    "    y_preds_stack = np.zeros(X_val.shape[0])\n",
    "    \n",
    "    for train_index2, test_index2 in skf2.split(X_fit_ids, y_fit):\n",
    "        \n",
    "#         print('Fold k2 {}\\n'.format(counter2))\n",
    "        \n",
    "        X_fit2, X_val2 = X_fit.iloc[train_index2, :], X_fit.iloc[test_index2, :]\n",
    "        y_fit2, y_val2 = y_fit.iloc[train_index2], y_fit.iloc[test_index2]\n",
    "\n",
    "        xgb_model.fit(X_fit2,\n",
    "                     y_fit2,\n",
    "                     eval_set=[(X_val2, y_val2)],\n",
    "                     verbose=0,\n",
    "                  early_stopping_rounds=50,\n",
    "                 eval_metric='logloss')\n",
    "\n",
    "        y_preds += xgb_model.predict_proba(X_test)[:,1]\n",
    "        y_preds_stack += xgb_model.predict_proba(X_val)[:,1]\n",
    "\n",
    "        be += xgb_model.best_score\n",
    "        \n",
    "        del X_fit2\n",
    "        del X_val2\n",
    "        del y_fit2\n",
    "        del y_val2\n",
    "        del train_index2\n",
    "        del test_index2\n",
    "        gc.collect()\n",
    "\n",
    "    #     print('Guardamos el modelo')\n",
    "    #     joblib.dump(lgb_model, '../saved_models/{}_{}.pkl'.format(model_name, counter))\n",
    "\n",
    "    #     ft_importances += lgb_model.feature_importances_\n",
    "\n",
    "        counter2 += 1\n",
    "        \n",
    "    stack2['patient_id'] = train['patient_id'][test_index].tolist()\n",
    "    stack2['heart_disease_present'] = y_preds_stack/k2\n",
    "    stack = pd.concat([stack, stack2], axis = 0)\n",
    "    \n",
    "    del X_fit\n",
    "    del X_val\n",
    "    del y_fit\n",
    "    del y_val\n",
    "    del train_index\n",
    "    del test_index\n",
    "    gc.collect()\n",
    "\n",
    "    counter1 += 1\n",
    "    \n",
    "y_preds = y_preds / (k1*k2)\n",
    "\n",
    "print('\\n\\nBEST SCORE MEAN:', be / (k1*k2))\n",
    "stack.to_csv('../stacking/data/train_{}.csv'.format(model_name), index=False)\n",
    "sub = pd.DataFrame({'patient_id': test['patient_id'], 'heart_disease_present': y_preds})\n",
    "sub.to_csv('../stacking/data/test_{}.csv'.format(model_name), index=False)"
   ]
  },
  {
   "cell_type": "code",
   "execution_count": 15,
   "metadata": {},
   "outputs": [
    {
     "data": {
      "text/html": [
       "<div>\n",
       "<style scoped>\n",
       "    .dataframe tbody tr th:only-of-type {\n",
       "        vertical-align: middle;\n",
       "    }\n",
       "\n",
       "    .dataframe tbody tr th {\n",
       "        vertical-align: top;\n",
       "    }\n",
       "\n",
       "    .dataframe thead th {\n",
       "        text-align: right;\n",
       "    }\n",
       "</style>\n",
       "<table border=\"1\" class=\"dataframe\">\n",
       "  <thead>\n",
       "    <tr style=\"text-align: right;\">\n",
       "      <th></th>\n",
       "      <th>patient_id</th>\n",
       "      <th>heart_disease_present</th>\n",
       "    </tr>\n",
       "  </thead>\n",
       "  <tbody>\n",
       "    <tr>\n",
       "      <th>0</th>\n",
       "      <td>0z64un</td>\n",
       "      <td>0.180913</td>\n",
       "    </tr>\n",
       "    <tr>\n",
       "      <th>1</th>\n",
       "      <td>yt1s1x</td>\n",
       "      <td>0.609941</td>\n",
       "    </tr>\n",
       "    <tr>\n",
       "      <th>2</th>\n",
       "      <td>3nwy2n</td>\n",
       "      <td>0.861866</td>\n",
       "    </tr>\n",
       "    <tr>\n",
       "      <th>3</th>\n",
       "      <td>1r508r</td>\n",
       "      <td>0.155135</td>\n",
       "    </tr>\n",
       "    <tr>\n",
       "      <th>4</th>\n",
       "      <td>cvux3j</td>\n",
       "      <td>0.203478</td>\n",
       "    </tr>\n",
       "  </tbody>\n",
       "</table>\n",
       "</div>"
      ],
      "text/plain": [
       "  patient_id  heart_disease_present\n",
       "0     0z64un               0.180913\n",
       "1     yt1s1x               0.609941\n",
       "2     3nwy2n               0.861866\n",
       "3     1r508r               0.155135\n",
       "4     cvux3j               0.203478"
      ]
     },
     "execution_count": 15,
     "metadata": {},
     "output_type": "execute_result"
    }
   ],
   "source": [
    "stack.head()"
   ]
  },
  {
   "cell_type": "code",
   "execution_count": null,
   "metadata": {},
   "outputs": [],
   "source": []
  },
  {
   "cell_type": "code",
   "execution_count": null,
   "metadata": {},
   "outputs": [],
   "source": []
  },
  {
   "cell_type": "code",
   "execution_count": 62,
   "metadata": {},
   "outputs": [
    {
     "name": "stdout",
     "output_type": "stream",
     "text": [
      "\n",
      "\n",
      "BEST SCORE MEAN: 0.40831800000000007\n"
     ]
    }
   ],
   "source": [
    "counter = 1\n",
    "y_preds = np.zeros(X_test.shape[0])\n",
    "be = 0\n",
    "stack = pd.DataFrame()\n",
    "stack2 = pd.DataFrame()\n",
    "for train_index, test_index in skf.split(train_ids, y_train):\n",
    "#     print('Fold {}\\n'.format(counter))\n",
    "\n",
    "    X_fit, X_val = X_train.iloc[train_index, :], X_train.iloc[test_index, :]\n",
    "    y_fit, y_val = y_train.iloc[train_index], y_train.iloc[test_index]\n",
    "\n",
    "    xgb_model.fit(X_fit,\n",
    "                  y_fit,\n",
    "                  eval_set=[(X_val, y_val)],\n",
    "                  verbose=0,\n",
    "                  early_stopping_rounds=50,\n",
    "                 eval_metric='logloss')\n",
    "\n",
    "    y_preds += xgb_model.predict_proba(X_test)[:,1]\n",
    "    stack2['patient_id'] = train['patient_id'][test_index].tolist()\n",
    "    stack2['heart_disease_present'] = xgb_model.predict_proba(X_val)[:,1]\n",
    "    stack = pd.concat([stack, stack2], axis = 0)\n",
    "\n",
    "    be += xgb_model.best_score\n",
    "\n",
    "    del X_fit\n",
    "    del X_val\n",
    "    del y_fit\n",
    "    del y_val\n",
    "    del train_index\n",
    "    del test_index\n",
    "    gc.collect()\n",
    "\n",
    "#     print('Guardamos el modelo')\n",
    "#     joblib.dump(lgb_model, '../saved_models/{}_{}.pkl'.format(model_name, counter))\n",
    "\n",
    "#     ft_importances += lgb_model.feature_importances_\n",
    "\n",
    "    counter += 1\n",
    "\n",
    "y_preds = y_preds / (counter-1)\n",
    "\n",
    "print('\\n\\nBEST SCORE MEAN:', be / (counter-1))\n"
   ]
  },
  {
   "cell_type": "code",
   "execution_count": 55,
   "metadata": {},
   "outputs": [
    {
     "data": {
      "text/html": [
       "<div>\n",
       "<style scoped>\n",
       "    .dataframe tbody tr th:only-of-type {\n",
       "        vertical-align: middle;\n",
       "    }\n",
       "\n",
       "    .dataframe tbody tr th {\n",
       "        vertical-align: top;\n",
       "    }\n",
       "\n",
       "    .dataframe thead th {\n",
       "        text-align: right;\n",
       "    }\n",
       "</style>\n",
       "<table border=\"1\" class=\"dataframe\">\n",
       "  <thead>\n",
       "    <tr style=\"text-align: right;\">\n",
       "      <th></th>\n",
       "      <th>patient_id</th>\n",
       "      <th>heart_disease_present</th>\n",
       "    </tr>\n",
       "  </thead>\n",
       "  <tbody>\n",
       "    <tr>\n",
       "      <th>0</th>\n",
       "      <td>0z64un</td>\n",
       "      <td>0.081224</td>\n",
       "    </tr>\n",
       "    <tr>\n",
       "      <th>1</th>\n",
       "      <td>yt1s1x</td>\n",
       "      <td>0.649749</td>\n",
       "    </tr>\n",
       "    <tr>\n",
       "      <th>2</th>\n",
       "      <td>3nwy2n</td>\n",
       "      <td>0.953531</td>\n",
       "    </tr>\n",
       "    <tr>\n",
       "      <th>3</th>\n",
       "      <td>1r508r</td>\n",
       "      <td>0.039204</td>\n",
       "    </tr>\n",
       "    <tr>\n",
       "      <th>4</th>\n",
       "      <td>cvux3j</td>\n",
       "      <td>0.047122</td>\n",
       "    </tr>\n",
       "  </tbody>\n",
       "</table>\n",
       "</div>"
      ],
      "text/plain": [
       "  patient_id  heart_disease_present\n",
       "0     0z64un               0.081224\n",
       "1     yt1s1x               0.649749\n",
       "2     3nwy2n               0.953531\n",
       "3     1r508r               0.039204\n",
       "4     cvux3j               0.047122"
      ]
     },
     "execution_count": 55,
     "metadata": {},
     "output_type": "execute_result"
    }
   ],
   "source": [
    "stack.head()"
   ]
  },
  {
   "cell_type": "code",
   "execution_count": 7,
   "metadata": {},
   "outputs": [],
   "source": [
    "stack.to_csv('../stacking/data/train_{}.csv'.format(model_name), index=False)"
   ]
  },
  {
   "cell_type": "code",
   "execution_count": 65,
   "metadata": {},
   "outputs": [
    {
     "data": {
      "text/plain": [
       "<matplotlib.axes._subplots.AxesSubplot at 0x7fec94f43630>"
      ]
     },
     "execution_count": 65,
     "metadata": {},
     "output_type": "execute_result"
    },
    {
     "data": {
      "image/png": "[encoded data removed]",
      "text/plain": [
       "<Figure size 432x288 with 1 Axes>"
      ]
     },
     "metadata": {
      "needs_background": "light"
     },
     "output_type": "display_data"
    }
   ],
   "source": [
    "plot_importance(xgb_model, height=1)"
   ]
  },
  {
   "cell_type": "code",
   "execution_count": 9,
   "metadata": {},
   "outputs": [
    {
     "data": {
      "text/plain": [
       "array([0.45844439, 0.18401742, 0.82717737, 0.22615613, 0.79762191])"
      ]
     },
     "execution_count": 9,
     "metadata": {},
     "output_type": "execute_result"
    }
   ],
   "source": [
    "y_preds[:5]"
   ]
  },
  {
   "cell_type": "code",
   "execution_count": 63,
   "metadata": {},
   "outputs": [],
   "source": [
    "sub = pd.DataFrame({'patient_id': test['patient_id'], 'heart_disease_present': y_preds})"
   ]
  },
  {
   "cell_type": "code",
   "execution_count": 64,
   "metadata": {},
   "outputs": [],
   "source": [
    "sub.to_csv('../submissions/xgb_4.csv', index=False)"
   ]
  },
  {
   "cell_type": "code",
   "execution_count": null,
   "metadata": {},
   "outputs": [],
   "source": []
  }
 ],
 "metadata": {
  "kernelspec": {
   "display_name": "Python 3",
   "language": "python",
   "name": "python3"
  },
  "language_info": {
   "codemirror_mode": {
    "name": "ipython",
    "version": 3
   },
   "file_extension": ".py",
   "mimetype": "text/x-python",
   "name": "python",
   "nbconvert_exporter": "python",
   "pygments_lexer": "ipython3",
   "version": "3.6.7"
  }
 },
 "nbformat": 4,
 "nbformat_minor": 2
}
